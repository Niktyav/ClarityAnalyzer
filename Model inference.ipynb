{
 "cells": [
  {
   "cell_type": "markdown",
   "metadata": {},
   "source": [
    "<img src='static/img/logo.gif' width=400>\n",
    "\n",
    "# Хакатон. Задача от `B`e`e`l`i`n`e`\n",
    "\n",
    "##### `Задача`: необходимо создать модель для бинарной классификации аудиофрагментов с целью определения качества их транскрибации."
   ]
  },
  {
   "cell_type": "markdown",
   "metadata": {},
   "source": [
    "___\n",
    "# <center> <a style='color:gold'>Model inference</a>\n",
    "\n",
    "___\n",
    "### <a id=100 style='color:gold'>Содержание</a>\n",
    "\n",
    "- $\\boxed{\\text{Импорт данных}}$\n",
    "\n",
    "    - [Импорт библиотек](#1)\n",
    "\n",
    "    - [Импорт тестового датасета](#2)\n",
    "\n",
    "    - [Импорт обученной модели](#3)\n",
    "\n",
    "- $\\boxed{\\text{Оценка качества модели}}$\n",
    "\n",
    "    - [Оценка качества транскрибации по предложению](#4)\n",
    "    \n",
    "    - [Оценка качества модели на датасете](#5)\n"
   ]
  },
  {
   "cell_type": "markdown",
   "metadata": {},
   "source": [
    "___\n",
    "### <a id=1 style='color:gold'>Импорт библиотек</a>"
   ]
  },
  {
   "cell_type": "code",
   "execution_count": 2,
   "metadata": {},
   "outputs": [],
   "source": [
    "import torch\n",
    "import numpy as np\n",
    "import pandas as pd\n",
    "from tqdm import trange\n",
    "import matplotlib.pyplot as plt\n",
    "from sklearn.metrics import  roc_auc_score, roc_curve\n",
    "from transformers import BertTokenizer, BertForSequenceClassification"
   ]
  },
  {
   "cell_type": "markdown",
   "metadata": {},
   "source": [
    "___\n",
    "### <a id=2 style='color:gold'>Импорт тестового датасета</a>"
   ]
  },
  {
   "cell_type": "code",
   "execution_count": 3,
   "metadata": {},
   "outputs": [
    {
     "data": {
      "text/html": [
       "<div>\n",
       "<style scoped>\n",
       "    .dataframe tbody tr th:only-of-type {\n",
       "        vertical-align: middle;\n",
       "    }\n",
       "\n",
       "    .dataframe tbody tr th {\n",
       "        vertical-align: top;\n",
       "    }\n",
       "\n",
       "    .dataframe thead th {\n",
       "        text-align: right;\n",
       "    }\n",
       "</style>\n",
       "<table border=\"1\" class=\"dataframe\">\n",
       "  <thead>\n",
       "    <tr style=\"text-align: right;\">\n",
       "      <th></th>\n",
       "      <th>annotation_fastconformer</th>\n",
       "      <th>human_markup</th>\n",
       "      <th>audio_path</th>\n",
       "      <th>label</th>\n",
       "    </tr>\n",
       "  </thead>\n",
       "  <tbody>\n",
       "    <tr>\n",
       "      <th>0</th>\n",
       "      <td>у нас здесь муж много</td>\n",
       "      <td>вот у нас здесь мух много</td>\n",
       "      <td>51b0fadce17e.wav</td>\n",
       "      <td>0</td>\n",
       "    </tr>\n",
       "    <tr>\n",
       "      <th>1</th>\n",
       "      <td>понимаешь если бы это был случай он тебя не бо...</td>\n",
       "      <td>понимаешь если бы это было случайно он бы тебя...</td>\n",
       "      <td>42e052ce1540.wav</td>\n",
       "      <td>0</td>\n",
       "    </tr>\n",
       "    <tr>\n",
       "      <th>2</th>\n",
       "      <td>вот как ты языков своих трепишь блять они еще ...</td>\n",
       "      <td>вот как ты языком своим треплешь блять они ещё...</td>\n",
       "      <td>42de1bfba887.wav</td>\n",
       "      <td>0</td>\n",
       "    </tr>\n",
       "    <tr>\n",
       "      <th>3</th>\n",
       "      <td>и согласен с тем что молчать нельзя и нужно об...</td>\n",
       "      <td>я согласен с тем что молчать нельзя и нужно об...</td>\n",
       "      <td>42dc265ff6f9.wav</td>\n",
       "      <td>0</td>\n",
       "    </tr>\n",
       "    <tr>\n",
       "      <th>4</th>\n",
       "      <td>грузинского информата</td>\n",
       "      <td>фрунзенского военкомата</td>\n",
       "      <td>42d97a9d47f1.wav</td>\n",
       "      <td>1</td>\n",
       "    </tr>\n",
       "  </tbody>\n",
       "</table>\n",
       "</div>"
      ],
      "text/plain": [
       "                            annotation_fastconformer  \\\n",
       "0                              у нас здесь муж много   \n",
       "1  понимаешь если бы это был случай он тебя не бо...   \n",
       "2  вот как ты языков своих трепишь блять они еще ...   \n",
       "3  и согласен с тем что молчать нельзя и нужно об...   \n",
       "4                              грузинского информата   \n",
       "\n",
       "                                        human_markup        audio_path  label  \n",
       "0                          вот у нас здесь мух много  51b0fadce17e.wav      0  \n",
       "1  понимаешь если бы это было случайно он бы тебя...  42e052ce1540.wav      0  \n",
       "2  вот как ты языком своим треплешь блять они ещё...  42de1bfba887.wav      0  \n",
       "3  я согласен с тем что молчать нельзя и нужно об...  42dc265ff6f9.wav      0  \n",
       "4                            фрунзенского военкомата  42d97a9d47f1.wav      1  "
      ]
     },
     "execution_count": 3,
     "metadata": {},
     "output_type": "execute_result"
    }
   ],
   "source": [
    "FILE_PATH = 'data/data_part1.xlsx'\n",
    "\n",
    "df = pd.read_excel(FILE_PATH)\n",
    "df[:5]"
   ]
  },
  {
   "cell_type": "markdown",
   "metadata": {},
   "source": [
    "___\n",
    "### <a id=3 style='color:gold'>Импорт обученной модели</a>"
   ]
  },
  {
   "cell_type": "code",
   "execution_count": null,
   "metadata": {},
   "outputs": [],
   "source": [
    "device = \"cuda:0\" if torch.cuda.is_available() else \"cpu\"\n",
    "\n",
    "model = BertForSequenceClassification.from_pretrained('nazarovmichail/sbert_large_transcription_classification').to(device)\n",
    "tokenizer = BertTokenizer.from_pretrained('nazarovmichail/sbert_large_transcription_classification')"
   ]
  },
  {
   "cell_type": "markdown",
   "metadata": {},
   "source": [
    "___\n",
    "### <a id=4 style='color:gold'>Оценка качества транскрибации по предложению</a>"
   ]
  },
  {
   "cell_type": "code",
   "execution_count": 5,
   "metadata": {},
   "outputs": [
    {
     "name": "stdout",
     "output_type": "stream",
     "text": [
      "Аудиофрагмент транскрибирован некачественно\n"
     ]
    }
   ],
   "source": [
    "def seq_prediction(sequence: str,\n",
    "                    model=model,\n",
    "                    tokenizer=tokenizer) -> None:\n",
    "    \"\"\"Функция оценивает качество транскрибации при помощи обученной модели\n",
    "\n",
    "    Args:\n",
    "        sequence (str): Текстовый фрагмент транскрибации\n",
    "        model (_type_, optional): Обученная модель. Defaults to model.\n",
    "        tokenizer (_type_, optional): Токенайзер. Defaults to tokenizer.\n",
    "    \"\"\"\n",
    "\n",
    "    tokens = tokenizer(sequence, return_tensors=\"pt\").to(device)\n",
    "    \n",
    "    with torch.no_grad():\n",
    "        logits = model(**tokens).logits\n",
    "\n",
    "    predicted_class = logits.argmax().item()\n",
    "    if predicted_class:\n",
    "        print(f'Аудиофрагмент транскрибирован некачественно')\n",
    "    else:\n",
    "        print(f'Аудиофрагмент транскрибирован качественно')\n",
    "\n",
    "\n",
    "sequence = \"грузинского информата\"\n",
    "\n",
    "seq_prediction(sequence)"
   ]
  },
  {
   "cell_type": "markdown",
   "metadata": {},
   "source": [
    "___\n",
    "### <a id=5 style='color:gold'>Оценка качества модели на датасете</a>"
   ]
  },
  {
   "cell_type": "code",
   "execution_count": 17,
   "metadata": {},
   "outputs": [
    {
     "data": {
      "image/png": "[encoded data removed]",
      "text/plain": [
       "<Figure size 640x480 with 1 Axes>"
      ]
     },
     "metadata": {},
     "output_type": "display_data"
    }
   ],
   "source": [
    "def model_evaluation(\n",
    "                    test_inputs: list, \n",
    "                    test_labels: list,\n",
    "                    model: BertForSequenceClassification=model,\n",
    "                    tokenizer: BertTokenizer=tokenizer,\n",
    "                    device: str=device,\n",
    "                    batch_size=10,\n",
    "                    verbose: bool=True) -> np.ndarray:\n",
    "    \"\"\"Функция для оценки обученной модели. Изображает ROC-кривую и рассчитывает показатель AUC.\n",
    "\n",
    "    Args:\n",
    "        test_inputs (list): Список тестовых транскрибированных предложений\n",
    "        test_labels (list): Список тестовых лейблов \n",
    "        model (BertForSequenceClassification, optional): Обученная модель. Defaults to model.\n",
    "        tokenizer (BertTokenizer, optional): Токенайзер. Defaults to tokenizer.\n",
    "        device (str, optional): Устройство для вычислений (cuda / cpu). Defaults to device.\n",
    "        batch_size (int, optional): Размер батчей. Defaults to 10.\n",
    "        verbose (bool, optional): Отображение прогрессбара при оценке модели . Defaults to True.\n",
    "\n",
    "    Returns:\n",
    "        np.ndarray: Вероятности модели для 1 класса\n",
    "    \"\"\"\n",
    "    \n",
    "    tokens = tokenizer(test_inputs, padding=True, return_tensors='pt').to(device)\n",
    "    SAMPLES_N = len(test_inputs)\n",
    "\n",
    "    total_test_out = torch.zeros(batch_size)\n",
    "    if verbose:\n",
    "        for start_idx in trange(0, SAMPLES_N, batch_size):\n",
    "            input_batch = tokens[start_idx: start_idx + batch_size]\n",
    "            with torch.no_grad():\n",
    "                test_out = model(**input_batch).logits[:,1]\n",
    "                if start_idx == 0:\n",
    "                    total_test_out = test_out\n",
    "                else:\n",
    "                    total_test_out = torch.cat((total_test_out, test_out))\n",
    "    else:\n",
    "        for start_idx in range(0, SAMPLES_N, batch_size):\n",
    "            input_batch = tokens[start_idx: start_idx + batch_size]\n",
    "            with torch.no_grad():\n",
    "                test_out = model(**input_batch).logits[:,1]\n",
    "                if start_idx == 0:\n",
    "                    total_test_out = test_out\n",
    "                else:\n",
    "                    total_test_out = torch.cat((total_test_out, test_out))\n",
    "\n",
    "    test_proba = torch.nn.functional.softmax(total_test_out, dim=0).detach().cpu().numpy()\n",
    "    test_auc = roc_auc_score(test_labels, test_proba, )\n",
    "\n",
    "\n",
    "    plt.style.use('ggplot');\n",
    "    ax = plt.subplot()\n",
    "    \n",
    "    plt.plot(*roc_curve(test_labels, test_proba)[:2], label=f'Test auc = {test_auc:.4f}')\n",
    "    \n",
    "    ax.set_xlabel('False positive rate')\n",
    "    ax.set_ylabel('True positive rate')\n",
    "    ax.plot([0, 1], [0, 1], '--', color='black',)\n",
    "    ax.set_title('SBERT transfer learning')\n",
    "    ax.legend(fontsize='large')\n",
    "\n",
    "    return test_proba\n",
    "\n",
    "\n",
    "test_inputs = df['annotation_fastconformer'].tolist()\n",
    "test_labels = df['label'].tolist()\n",
    "\n",
    "test_proba = model_evaluation(test_inputs=test_inputs, \n",
    "                            test_labels=test_labels, \n",
    "                            verbose=False)"
   ]
  }
 ],
 "metadata": {
  "kernelspec": {
   "display_name": "Python 3",
   "language": "python",
   "name": "python3"
  },
  "language_info": {
   "codemirror_mode": {
    "name": "ipython",
    "version": 3
   },
   "file_extension": ".py",
   "mimetype": "text/x-python",
   "name": "python",
   "nbconvert_exporter": "python",
   "pygments_lexer": "ipython3",
   "version": "3.12.3"
  }
 },
 "nbformat": 4,
 "nbformat_minor": 2
}
