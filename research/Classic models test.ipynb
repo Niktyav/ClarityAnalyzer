{
 "cells": [
  {
   "cell_type": "code",
   "execution_count": 10,
   "metadata": {
    "execution": {
     "iopub.execute_input": "2024-05-21T14:46:13.006409Z",
     "iopub.status.busy": "2024-05-21T14:46:13.005320Z",
     "iopub.status.idle": "2024-05-21T14:46:13.024761Z",
     "shell.execute_reply": "2024-05-21T14:46:13.024125Z",
     "shell.execute_reply.started": "2024-05-21T14:46:13.006347Z"
    },
    "tags": []
   },
   "outputs": [
    {
     "name": "stderr",
     "output_type": "stream",
     "text": [
      "Seed set to 42\n"
     ]
    },
    {
     "data": {
      "text/plain": [
       "42"
      ]
     },
     "execution_count": 10,
     "metadata": {},
     "output_type": "execute_result"
    }
   ],
   "source": [
    "# Загрузим необходимые библиотеки и зафиксируем seed\n",
    "from IPython import display\n",
    "import matplotlib.pyplot as plt\n",
    "%matplotlib inline\n",
    "from torch import nn\n",
    "from torch import optim\n",
    "from torchsummary import summary\n",
    "from tqdm import trange\n",
    "from sklearn.metrics import classification_report, confusion_matrix\n",
    "import seaborn as sns\n",
    "import pandas as pd\n",
    "import numpy as np\n",
    "from  pytorch_lightning import seed_everything\n",
    "from sklearn.base import BaseEstimator\n",
    "from sklearn.metrics import roc_auc_score, roc_curve, accuracy_score, classification_report\n",
    "from sklearn.model_selection import train_test_split, GridSearchCV, StratifiedKFold\n",
    "from transformers import AutoTokenizer, AutoModel\n",
    "import torch\n",
    "from tqdm import tqdm\n",
    "\n",
    "seed_everything(42)"
   ]
  },
  {
   "cell_type": "code",
   "execution_count": 2,
   "metadata": {
    "execution": {
     "iopub.execute_input": "2024-05-21T14:42:32.270442Z",
     "iopub.status.busy": "2024-05-21T14:42:32.269180Z",
     "iopub.status.idle": "2024-05-21T14:42:32.288157Z",
     "shell.execute_reply": "2024-05-21T14:42:32.287592Z",
     "shell.execute_reply.started": "2024-05-21T14:42:32.270403Z"
    }
   },
   "outputs": [],
   "source": [
    "# набор функций для метрик и визуализации\n",
    "\n",
    "def plot_train_process(train_loss, val_loss, train_accuracy, val_accuracy, title_suffix=''):\n",
    "    fig, axes = plt.subplots(1, 2, figsize=(15, 5))\n",
    "\n",
    "    axes[0].set_title(' '.join(['Loss', title_suffix]))\n",
    "    axes[0].plot(train_loss, label='train')\n",
    "    axes[0].plot(val_loss, label='validation')\n",
    "    axes[0].legend()\n",
    "\n",
    "    axes[1].set_title(' '.join(['Validation accuracy', title_suffix]))\n",
    "    axes[1].plot(train_accuracy, label='train')\n",
    "    axes[1].plot(val_accuracy, label='validation')\n",
    "    axes[1].legend()\n",
    "    plt.show()\n",
    "\n",
    "def visualize_and_save_results(model, model_name, X_train, X_test, y_train, y_test, out_dict):\n",
    "    for data_name, X, y, model in [\n",
    "    ('train', X_train, y_train, model),\n",
    "    ('test', X_test, y_test, model)\n",
    "    ]:\n",
    "        if isinstance(model, BaseEstimator):\n",
    "          try:\n",
    "            proba = model.predict_proba(X)[:, 1]\n",
    "          except AttributeError:\n",
    "            proba = model.decision_function(X) # не у всех классификаторов есть predict_proba - для них можно считать decision function, значение метрики должно быть аналогичным.\n",
    "            # Из документации: https://scikit-learn.org/stable/modules/model_evaluation.html#roc-auc-binary:~:text=Otherwise%2C%20we%20can%20use%20the%20non%2Dthresholded%20decision%20values\n",
    "\n",
    "        elif isinstance(model, nn.Module):\n",
    "            proba = model(X).detach().cpu().numpy()[:, 1]\n",
    "        else:\n",
    "            raise ValueError('Unrecognized model type')\n",
    "\n",
    "        auc = roc_auc_score(y, proba)\n",
    "\n",
    "        out_dict['{}_{}'.format(model_name, data_name)] = auc\n",
    "        plt.plot(*roc_curve(y, proba)[:2], label='%s AUC=%.4f' % (data_name, auc))\n",
    "\n",
    "    plt.plot([0, 1], [0, 1], '--', color='black',)\n",
    "    plt.legend(fontsize='large')\n",
    "    plt.title(model_name)\n",
    "    plt.grid()\n",
    "    return out_dict\n",
    "\n",
    "def get_metrics(gs, out_dict: dict) -> dict:\n",
    "    \"\"\"Сбор параметров и метрик обученной модели\n",
    "\n",
    "    Args:\n",
    "        gs (_type_): Экземпляр класса GridSearchCV после обучения\n",
    "        out_dict (dict): Словарь с метриками на тесте и лучшими параметрами модели\n",
    "\n",
    "    Returns:\n",
    "        dict: Обновленный словарь со средними метриками на обучающей и валидационной выборках\n",
    "    \"\"\"\n",
    "\n",
    "    val_auc = gs.best_score_\n",
    "    metrics_df = pd.DataFrame(gs.cv_results_)\n",
    "    total_main_metrics = metrics_df[['mean_train_score', 'mean_test_score', 'std_test_score']]\n",
    "    main_metrics_dict = total_main_metrics[total_main_metrics['mean_test_score'] == val_auc].to_dict()\n",
    "    out_dict.update(**main_metrics_dict)\n",
    "    return out_dict"
   ]
  },
  {
   "cell_type": "markdown",
   "metadata": {},
   "source": [
    "___\n",
    "### Исходный датафрейм"
   ]
  },
  {
   "cell_type": "code",
   "execution_count": 9,
   "metadata": {
    "tags": []
   },
   "outputs": [
    {
     "data": {
      "text/html": [
       "<div>\n",
       "<style scoped>\n",
       "    .dataframe tbody tr th:only-of-type {\n",
       "        vertical-align: middle;\n",
       "    }\n",
       "\n",
       "    .dataframe tbody tr th {\n",
       "        vertical-align: top;\n",
       "    }\n",
       "\n",
       "    .dataframe thead th {\n",
       "        text-align: right;\n",
       "    }\n",
       "</style>\n",
       "<table border=\"1\" class=\"dataframe\">\n",
       "  <thead>\n",
       "    <tr style=\"text-align: right;\">\n",
       "      <th></th>\n",
       "      <th>model_annotation</th>\n",
       "      <th>human_markup</th>\n",
       "      <th>audio_path</th>\n",
       "      <th>label</th>\n",
       "    </tr>\n",
       "  </thead>\n",
       "  <tbody>\n",
       "    <tr>\n",
       "      <th>0</th>\n",
       "      <td>давай по россии значит на коленях быстро блять...</td>\n",
       "      <td>давай проси значит на коленях быстро блять</td>\n",
       "      <td>s3://ap-training-set/xacaton_openstt/part_1/05...</td>\n",
       "      <td>1</td>\n",
       "    </tr>\n",
       "    <tr>\n",
       "      <th>1</th>\n",
       "      <td>ну разве можно так с телефоном поступает</td>\n",
       "      <td>ну что ну разве можно так с телефоном поступать</td>\n",
       "      <td>s3://ap-training-set/xacaton_openstt/part_1/05...</td>\n",
       "      <td>0</td>\n",
       "    </tr>\n",
       "    <tr>\n",
       "      <th>2</th>\n",
       "      <td>у меня нет с собой в полном адресе я щас дома ...</td>\n",
       "      <td>у меня нет с собой полного адреса я щас из дом...</td>\n",
       "      <td>s3://ap-training-set/xacaton_openstt/part_1/05...</td>\n",
       "      <td>0</td>\n",
       "    </tr>\n",
       "  </tbody>\n",
       "</table>\n",
       "</div>"
      ],
      "text/plain": [
       "                                    model_annotation  \\\n",
       "0  давай по россии значит на коленях быстро блять...   \n",
       "1           ну разве можно так с телефоном поступает   \n",
       "2  у меня нет с собой в полном адресе я щас дома ...   \n",
       "\n",
       "                                        human_markup  \\\n",
       "0         давай проси значит на коленях быстро блять   \n",
       "1    ну что ну разве можно так с телефоном поступать   \n",
       "2  у меня нет с собой полного адреса я щас из дом...   \n",
       "\n",
       "                                          audio_path  label  \n",
       "0  s3://ap-training-set/xacaton_openstt/part_1/05...      1  \n",
       "1  s3://ap-training-set/xacaton_openstt/part_1/05...      0  \n",
       "2  s3://ap-training-set/xacaton_openstt/part_1/05...      0  "
      ]
     },
     "execution_count": 9,
     "metadata": {},
     "output_type": "execute_result"
    }
   ],
   "source": [
    "FILE_PATH = 'data/hackaton_result_dataset.xlsx'\n",
    "\n",
    "df = pd.read_excel(FILE_PATH)\n",
    "df[:3]"
   ]
  },
  {
   "cell_type": "markdown",
   "metadata": {},
   "source": [
    "___\n",
    "### SBERT"
   ]
  },
  {
   "cell_type": "code",
   "execution_count": 10,
   "metadata": {
    "tags": []
   },
   "outputs": [
    {
     "data": {
      "application/vnd.jupyter.widget-view+json": {
       "model_id": "99014b4cedca47b6afb93a9efb308bcb",
       "version_major": 2,
       "version_minor": 0
      },
      "text/plain": [
       "Downloading tokenizer_config.json:   0%|          | 0.00/331 [00:00<?, ?B/s]"
      ]
     },
     "metadata": {},
     "output_type": "display_data"
    },
    {
     "name": "stderr",
     "output_type": "stream",
     "text": [
      "C:\\Users\\User\\anaconda3\\lib\\site-packages\\huggingface_hub\\file_download.py:133: UserWarning: `huggingface_hub` cache-system uses symlinks by default to efficiently store duplicated files but your machine does not support them in C:\\Users\\User\\.cache\\huggingface\\hub. Caching files will still work but in a degraded version that might require more space on your disk. This warning can be disabled by setting the `HF_HUB_DISABLE_SYMLINKS_WARNING` environment variable. For more details, see https://huggingface.co/docs/huggingface_hub/how-to-cache#limitations.\n",
      "To support symlinks on Windows, you either need to activate Developer Mode or to run Python as an administrator. In order to see activate developer mode, see this article: https://docs.microsoft.com/en-us/windows/apps/get-started/enable-your-device-for-development\n",
      "  warnings.warn(message)\n"
     ]
    },
    {
     "data": {
      "application/vnd.jupyter.widget-view+json": {
       "model_id": "e41c27a7f2ca4fcd988c7b6c82733a9f",
       "version_major": 2,
       "version_minor": 0
      },
      "text/plain": [
       "Downloading config.json:   0%|          | 0.00/752 [00:00<?, ?B/s]"
      ]
     },
     "metadata": {},
     "output_type": "display_data"
    },
    {
     "data": {
      "application/vnd.jupyter.widget-view+json": {
       "model_id": "0b009b83a7c940838af785d678460dbc",
       "version_major": 2,
       "version_minor": 0
      },
      "text/plain": [
       "Downloading vocab.txt:   0%|          | 0.00/1.78M [00:00<?, ?B/s]"
      ]
     },
     "metadata": {},
     "output_type": "display_data"
    },
    {
     "data": {
      "application/vnd.jupyter.widget-view+json": {
       "model_id": "a8c72635acfe466dba2ccc54fbc7e3ad",
       "version_major": 2,
       "version_minor": 0
      },
      "text/plain": [
       "Downloading (…)cial_tokens_map.json:   0%|          | 0.00/112 [00:00<?, ?B/s]"
      ]
     },
     "metadata": {},
     "output_type": "display_data"
    },
    {
     "name": "stderr",
     "output_type": "stream",
     "text": [
      "C:\\Users\\User\\anaconda3\\lib\\site-packages\\transformers\\utils\\generic.py:260: UserWarning: torch.utils._pytree._register_pytree_node is deprecated. Please use torch.utils._pytree.register_pytree_node instead.\n",
      "  torch.utils._pytree._register_pytree_node(\n"
     ]
    },
    {
     "data": {
      "application/vnd.jupyter.widget-view+json": {
       "model_id": "481e741f5717468ab18820a2ecf51e09",
       "version_major": 2,
       "version_minor": 0
      },
      "text/plain": [
       "Downloading pytorch_model.bin:   0%|          | 0.00/1.71G [00:00<?, ?B/s]"
      ]
     },
     "metadata": {},
     "output_type": "display_data"
    }
   ],
   "source": [
    "tokenizer = AutoTokenizer.from_pretrained(\"ai-forever/sbert_large_mt_nlu_ru\",**{'padding':True, 'truncation':True, 'max_length':24, 'return_tensors':'pt'})\n",
    "model = AutoModel.from_pretrained(\"ai-forever/sbert_large_mt_nlu_ru\")"
   ]
  },
  {
   "cell_type": "code",
   "execution_count": 11,
   "metadata": {},
   "outputs": [],
   "source": [
    "def mean_pooling(tokens, attention_mask):\n",
    "    with torch.no_grad():\n",
    "        output = model(**tokens)\n",
    "    token_embeddings = output[0] #First element of model_output contains all token embeddings\n",
    "    input_mask_expanded = attention_mask.unsqueeze(-1).expand(token_embeddings.size()).float()\n",
    "    sum_embeddings = torch.sum(token_embeddings * input_mask_expanded, 1)\n",
    "    sum_mask = torch.clamp(input_mask_expanded.sum(1), min=1e-9)\n",
    "    return sum_embeddings / sum_mask"
   ]
  },
  {
   "cell_type": "markdown",
   "metadata": {},
   "source": [
    "### Токенизация"
   ]
  },
  {
   "cell_type": "code",
   "execution_count": 12,
   "metadata": {
    "tags": []
   },
   "outputs": [],
   "source": [
    "df['tokens'] = df['model_annotation'].apply(lambda x: tokenizer(x, padding=True, truncation=True, max_length=24, return_tensors='pt'))"
   ]
  },
  {
   "cell_type": "code",
   "execution_count": 13,
   "metadata": {
    "tags": []
   },
   "outputs": [
    {
     "data": {
      "text/plain": [
       "{'input_ids': tensor([[  101,  3823,   377,   378,   654, 44422,  3216,   660, 18568,  2547,\n",
       "         51121,  1344,   102]]), 'token_type_ids': tensor([[0, 0, 0, 0, 0, 0, 0, 0, 0, 0, 0, 0, 0]]), 'attention_mask': tensor([[1, 1, 1, 1, 1, 1, 1, 1, 1, 1, 1, 1, 1]])}"
      ]
     },
     "execution_count": 13,
     "metadata": {},
     "output_type": "execute_result"
    }
   ],
   "source": [
    "df['tokens'][0]"
   ]
  },
  {
   "cell_type": "markdown",
   "metadata": {},
   "source": [
    "### Эмбеддинги"
   ]
  },
  {
   "cell_type": "code",
   "execution_count": 14,
   "metadata": {
    "tags": []
   },
   "outputs": [
    {
     "name": "stderr",
     "output_type": "stream",
     "text": [
      "100%|██████████████████████████████████████████████████████████████████████████████| 6508/6508 [43:16<00:00,  2.51it/s]\n"
     ]
    }
   ],
   "source": [
    "tqdm.pandas()\n",
    "df['emb'] = df['tokens'].progress_apply(lambda token: mean_pooling(token, token['attention_mask']))"
   ]
  },
  {
   "cell_type": "code",
   "execution_count": 15,
   "metadata": {
    "tags": []
   },
   "outputs": [
    {
     "data": {
      "text/plain": [
       "0    [[tensor(-0.3775), tensor(0.0096), tensor(-0.0...\n",
       "1    [[tensor(-0.3522), tensor(-0.1911), tensor(0.9...\n",
       "2    [[tensor(-0.2016), tensor(0.1401), tensor(-0.6...\n",
       "Name: emb, dtype: object"
      ]
     },
     "execution_count": 15,
     "metadata": {},
     "output_type": "execute_result"
    }
   ],
   "source": [
    "df['emb'][:3]"
   ]
  },
  {
   "cell_type": "markdown",
   "metadata": {},
   "source": [
    "___\n",
    "### Сохранение датафрейма"
   ]
  },
  {
   "cell_type": "code",
   "execution_count": 6,
   "metadata": {
    "collapsed": true,
    "execution": {
     "iopub.execute_input": "2024-05-21T14:45:04.385799Z",
     "iopub.status.busy": "2024-05-21T14:45:04.384847Z",
     "iopub.status.idle": "2024-05-21T14:45:04.421811Z",
     "shell.execute_reply": "2024-05-21T14:45:04.420690Z",
     "shell.execute_reply.started": "2024-05-21T14:45:04.385742Z"
    },
    "jupyter": {
     "outputs_hidden": true
    },
    "tags": []
   },
   "outputs": [
    {
     "ename": "OSError",
     "evalue": "Cannot save file into a non-existent directory: 'data'",
     "output_type": "error",
     "traceback": [
      "\u001b[0;31m---------------------------------------------------------------------------\u001b[0m",
      "\u001b[0;31mOSError\u001b[0m                                   Traceback (most recent call last)",
      "\u001b[0;32m/tmp/ipykernel_1936/1665611519.py\u001b[0m in \u001b[0;36m<cell line: 1>\u001b[0;34m()\u001b[0m\n\u001b[0;32m----> 1\u001b[0;31m \u001b[0mdf\u001b[0m\u001b[0;34m.\u001b[0m\u001b[0mto_pickle\u001b[0m\u001b[0;34m(\u001b[0m\u001b[0;34m'data/df_emb.pkl'\u001b[0m\u001b[0;34m)\u001b[0m\u001b[0;34m\u001b[0m\u001b[0;34m\u001b[0m\u001b[0m\n\u001b[0m",
      "\u001b[0;32m/usr/local/lib/python3.10/dist-packages/pandas/core/generic.py\u001b[0m in \u001b[0;36mto_pickle\u001b[0;34m(self, path, compression, protocol, storage_options)\u001b[0m\n\u001b[1;32m   3062\u001b[0m         \u001b[0;32mfrom\u001b[0m \u001b[0mpandas\u001b[0m\u001b[0;34m.\u001b[0m\u001b[0mio\u001b[0m\u001b[0;34m.\u001b[0m\u001b[0mpickle\u001b[0m \u001b[0;32mimport\u001b[0m \u001b[0mto_pickle\u001b[0m\u001b[0;34m\u001b[0m\u001b[0;34m\u001b[0m\u001b[0m\n\u001b[1;32m   3063\u001b[0m \u001b[0;34m\u001b[0m\u001b[0m\n\u001b[0;32m-> 3064\u001b[0;31m         to_pickle(\n\u001b[0m\u001b[1;32m   3065\u001b[0m             \u001b[0mself\u001b[0m\u001b[0;34m,\u001b[0m\u001b[0;34m\u001b[0m\u001b[0;34m\u001b[0m\u001b[0m\n\u001b[1;32m   3066\u001b[0m             \u001b[0mpath\u001b[0m\u001b[0;34m,\u001b[0m\u001b[0;34m\u001b[0m\u001b[0;34m\u001b[0m\u001b[0m\n",
      "\u001b[0;32m/usr/local/lib/python3.10/dist-packages/pandas/io/pickle.py\u001b[0m in \u001b[0;36mto_pickle\u001b[0;34m(obj, filepath_or_buffer, compression, protocol, storage_options)\u001b[0m\n\u001b[1;32m     95\u001b[0m         \u001b[0mprotocol\u001b[0m \u001b[0;34m=\u001b[0m \u001b[0mpickle\u001b[0m\u001b[0;34m.\u001b[0m\u001b[0mHIGHEST_PROTOCOL\u001b[0m\u001b[0;34m\u001b[0m\u001b[0;34m\u001b[0m\u001b[0m\n\u001b[1;32m     96\u001b[0m \u001b[0;34m\u001b[0m\u001b[0m\n\u001b[0;32m---> 97\u001b[0;31m     with get_handle(\n\u001b[0m\u001b[1;32m     98\u001b[0m         \u001b[0mfilepath_or_buffer\u001b[0m\u001b[0;34m,\u001b[0m\u001b[0;34m\u001b[0m\u001b[0;34m\u001b[0m\u001b[0m\n\u001b[1;32m     99\u001b[0m         \u001b[0;34m\"wb\"\u001b[0m\u001b[0;34m,\u001b[0m\u001b[0;34m\u001b[0m\u001b[0;34m\u001b[0m\u001b[0m\n",
      "\u001b[0;32m/usr/local/lib/python3.10/dist-packages/pandas/io/common.py\u001b[0m in \u001b[0;36mget_handle\u001b[0;34m(path_or_buf, mode, encoding, compression, memory_map, is_text, errors, storage_options)\u001b[0m\n\u001b[1;32m    732\u001b[0m     \u001b[0;31m# Only for write methods\u001b[0m\u001b[0;34m\u001b[0m\u001b[0;34m\u001b[0m\u001b[0m\n\u001b[1;32m    733\u001b[0m     \u001b[0;32mif\u001b[0m \u001b[0;34m\"r\"\u001b[0m \u001b[0;32mnot\u001b[0m \u001b[0;32min\u001b[0m \u001b[0mmode\u001b[0m \u001b[0;32mand\u001b[0m \u001b[0mis_path\u001b[0m\u001b[0;34m:\u001b[0m\u001b[0;34m\u001b[0m\u001b[0;34m\u001b[0m\u001b[0m\n\u001b[0;32m--> 734\u001b[0;31m         \u001b[0mcheck_parent_directory\u001b[0m\u001b[0;34m(\u001b[0m\u001b[0mstr\u001b[0m\u001b[0;34m(\u001b[0m\u001b[0mhandle\u001b[0m\u001b[0;34m)\u001b[0m\u001b[0;34m)\u001b[0m\u001b[0;34m\u001b[0m\u001b[0;34m\u001b[0m\u001b[0m\n\u001b[0m\u001b[1;32m    735\u001b[0m \u001b[0;34m\u001b[0m\u001b[0m\n\u001b[1;32m    736\u001b[0m     \u001b[0;32mif\u001b[0m \u001b[0mcompression\u001b[0m\u001b[0;34m:\u001b[0m\u001b[0;34m\u001b[0m\u001b[0;34m\u001b[0m\u001b[0m\n",
      "\u001b[0;32m/usr/local/lib/python3.10/dist-packages/pandas/io/common.py\u001b[0m in \u001b[0;36mcheck_parent_directory\u001b[0;34m(path)\u001b[0m\n\u001b[1;32m    595\u001b[0m     \u001b[0mparent\u001b[0m \u001b[0;34m=\u001b[0m \u001b[0mPath\u001b[0m\u001b[0;34m(\u001b[0m\u001b[0mpath\u001b[0m\u001b[0;34m)\u001b[0m\u001b[0;34m.\u001b[0m\u001b[0mparent\u001b[0m\u001b[0;34m\u001b[0m\u001b[0;34m\u001b[0m\u001b[0m\n\u001b[1;32m    596\u001b[0m     \u001b[0;32mif\u001b[0m \u001b[0;32mnot\u001b[0m \u001b[0mparent\u001b[0m\u001b[0;34m.\u001b[0m\u001b[0mis_dir\u001b[0m\u001b[0;34m(\u001b[0m\u001b[0;34m)\u001b[0m\u001b[0;34m:\u001b[0m\u001b[0;34m\u001b[0m\u001b[0;34m\u001b[0m\u001b[0m\n\u001b[0;32m--> 597\u001b[0;31m         \u001b[0;32mraise\u001b[0m \u001b[0mOSError\u001b[0m\u001b[0;34m(\u001b[0m\u001b[0;34mrf\"Cannot save file into a non-existent directory: '{parent}'\"\u001b[0m\u001b[0;34m)\u001b[0m\u001b[0;34m\u001b[0m\u001b[0;34m\u001b[0m\u001b[0m\n\u001b[0m\u001b[1;32m    598\u001b[0m \u001b[0;34m\u001b[0m\u001b[0m\n\u001b[1;32m    599\u001b[0m \u001b[0;34m\u001b[0m\u001b[0m\n",
      "\u001b[0;31mOSError\u001b[0m: Cannot save file into a non-existent directory: 'data'"
     ]
    }
   ],
   "source": [
    "df.to_pickle('data/df_emb.pkl')"
   ]
  },
  {
   "cell_type": "markdown",
   "metadata": {},
   "source": [
    "___\n",
    "### Загрузка датафрейма"
   ]
  },
  {
   "cell_type": "code",
   "execution_count": 5,
   "metadata": {
    "execution": {
     "iopub.execute_input": "2024-05-21T14:44:58.675121Z",
     "iopub.status.busy": "2024-05-21T14:44:58.674190Z",
     "iopub.status.idle": "2024-05-21T14:45:00.619283Z",
     "shell.execute_reply": "2024-05-21T14:45:00.618499Z",
     "shell.execute_reply.started": "2024-05-21T14:44:58.675080Z"
    },
    "tags": []
   },
   "outputs": [],
   "source": [
    "df = pd.read_pickle('df_emb.pkl')"
   ]
  },
  {
   "cell_type": "markdown",
   "metadata": {},
   "source": [
    "___\n",
    "### Разделение выборки"
   ]
  },
  {
   "cell_type": "code",
   "execution_count": 7,
   "metadata": {
    "execution": {
     "iopub.execute_input": "2024-05-21T14:45:14.215831Z",
     "iopub.status.busy": "2024-05-21T14:45:14.214990Z",
     "iopub.status.idle": "2024-05-21T14:45:14.234262Z",
     "shell.execute_reply": "2024-05-21T14:45:14.233659Z",
     "shell.execute_reply.started": "2024-05-21T14:45:14.215795Z"
    },
    "tags": []
   },
   "outputs": [],
   "source": [
    "X = df['emb']\n",
    "y = df['label']\n",
    "\n",
    "X_train, X_test, y_train, y_test = train_test_split(X, y, test_size=0.1)"
   ]
  },
  {
   "cell_type": "code",
   "execution_count": 8,
   "metadata": {
    "execution": {
     "iopub.execute_input": "2024-05-21T14:45:23.349680Z",
     "iopub.status.busy": "2024-05-21T14:45:23.348697Z",
     "iopub.status.idle": "2024-05-21T14:45:23.408513Z",
     "shell.execute_reply": "2024-05-21T14:45:23.407844Z",
     "shell.execute_reply.started": "2024-05-21T14:45:23.349648Z"
    },
    "tags": []
   },
   "outputs": [],
   "source": [
    "X_train_ser = X_train.apply(lambda x: torch.reshape(x, shape=(1024,)).numpy())\n",
    "X_test_ser = X_test.apply(lambda x: torch.reshape(x, shape=(1024,)).numpy())\n",
    "y_train_arr = y_train.to_numpy()\n",
    "y_test_arr = y_test.to_numpy()"
   ]
  },
  {
   "cell_type": "markdown",
   "metadata": {},
   "source": [
    "### Series -> array"
   ]
  },
  {
   "cell_type": "code",
   "execution_count": 11,
   "metadata": {
    "execution": {
     "iopub.execute_input": "2024-05-21T14:46:32.751722Z",
     "iopub.status.busy": "2024-05-21T14:46:32.750861Z",
     "iopub.status.idle": "2024-05-21T14:46:32.787157Z",
     "shell.execute_reply": "2024-05-21T14:46:32.786540Z",
     "shell.execute_reply.started": "2024-05-21T14:46:32.751693Z"
    },
    "tags": []
   },
   "outputs": [],
   "source": [
    "\n",
    "def get_matrix(X: pd.Series) -> np.ndarray:\n",
    "    X_train_matrix = np.zeros((X.shape[0], 1024))\n",
    "    for i, array in enumerate(X):\n",
    "        X_train_matrix[i] = array\n",
    "\n",
    "    return X_train_matrix\n",
    "\n",
    "X_train_matrix = get_matrix(X_train_ser)\n",
    "X_test_matrix = get_matrix(X_test_ser)"
   ]
  },
  {
   "cell_type": "markdown",
   "metadata": {},
   "source": [
    "___\n",
    "### Классические модели"
   ]
  },
  {
   "cell_type": "markdown",
   "metadata": {},
   "source": [
    "___\n",
    "### `LinearSVC`"
   ]
  },
  {
   "cell_type": "code",
   "execution_count": 15,
   "metadata": {
    "execution": {
     "iopub.execute_input": "2024-05-21T15:35:00.208283Z",
     "iopub.status.busy": "2024-05-21T15:35:00.207100Z",
     "iopub.status.idle": "2024-05-21T15:53:10.843549Z",
     "shell.execute_reply": "2024-05-21T15:53:10.842855Z",
     "shell.execute_reply.started": "2024-05-21T15:35:00.208248Z"
    },
    "tags": []
   },
   "outputs": [
    {
     "name": "stdout",
     "output_type": "stream",
     "text": [
      "Лучшие параметры {'C': 0.1, 'loss': 'hinge', 'penalty': 'l2'}\n",
      "Лучшее значение метрики качества {'C': 0.1, 'loss': 'hinge', 'penalty': 'l2'}\n"
     ]
    }
   ],
   "source": [
    "# Подберем параметры для LinearSVC\n",
    "from sklearn.svm import LinearSVC\n",
    "\n",
    "param_grid_LinearSVC_l2 = {\n",
    "    \"penalty\" : [\"l2\"],\n",
    "    'loss' : [\"hinge\",\"squared_hinge\"],\n",
    "    'C': [0.1,0.3,0.5,1,2],\n",
    "    }\n",
    "\n",
    "lsvc_clf = LinearSVC(max_iter = 10000)\n",
    "\n",
    "gs_lsvc_l2 = GridSearchCV(estimator=lsvc_clf, param_grid=param_grid_LinearSVC_l2, cv=StratifiedKFold(5),return_train_score=True, scoring='roc_auc', n_jobs=2)\n",
    "gs_lsvc_l2.fit(X_train_matrix, y_train_arr)\n",
    "\n",
    "best_params_lsvc_l2 = gs_lsvc_l2.best_params_\n",
    "best_score_lsvc_l2 = gs_lsvc_l2.best_score_\n",
    "\n",
    "print (\"Лучшие параметры\", best_params_lsvc_l2)\n",
    "print (\"Лучшее значение метрики качества\", best_score_lsvc_l2)"
   ]
  },
  {
   "cell_type": "code",
   "execution_count": 17,
   "metadata": {
    "execution": {
     "iopub.execute_input": "2024-05-21T15:57:16.529068Z",
     "iopub.status.busy": "2024-05-21T15:57:16.528329Z",
     "iopub.status.idle": "2024-05-21T15:57:16.560543Z",
     "shell.execute_reply": "2024-05-21T15:57:16.560033Z",
     "shell.execute_reply.started": "2024-05-21T15:57:16.529043Z"
    }
   },
   "outputs": [
    {
     "name": "stdout",
     "output_type": "stream",
     "text": [
      "Тестовые и валидационные метрики из GridSearchCV:\n"
     ]
    },
    {
     "data": {
      "text/html": [
       "<div>\n",
       "<style scoped>\n",
       "    .dataframe tbody tr th:only-of-type {\n",
       "        vertical-align: middle;\n",
       "    }\n",
       "\n",
       "    .dataframe tbody tr th {\n",
       "        vertical-align: top;\n",
       "    }\n",
       "\n",
       "    .dataframe thead th {\n",
       "        text-align: right;\n",
       "    }\n",
       "</style>\n",
       "<table border=\"1\" class=\"dataframe\">\n",
       "  <thead>\n",
       "    <tr style=\"text-align: right;\">\n",
       "      <th></th>\n",
       "      <th>mean_train_score</th>\n",
       "      <th>mean_test_score</th>\n",
       "      <th>std_test_score</th>\n",
       "    </tr>\n",
       "  </thead>\n",
       "  <tbody>\n",
       "    <tr>\n",
       "      <th>0</th>\n",
       "      <td>0.879449</td>\n",
       "      <td>0.749444</td>\n",
       "      <td>0.008255</td>\n",
       "    </tr>\n",
       "  </tbody>\n",
       "</table>\n",
       "</div>"
      ],
      "text/plain": [
       "   mean_train_score  mean_test_score  std_test_score\n",
       "0          0.879449         0.749444        0.008255"
      ]
     },
     "execution_count": 17,
     "metadata": {},
     "output_type": "execute_result"
    }
   ],
   "source": [
    "# Проверим получившиеся метрики\n",
    "test_val_dict = dict()\n",
    "test_val_dict = get_metrics(gs_lsvc_l2, test_val_dict)\n",
    "print('Тестовые и валидационные метрики из GridSearchCV:')\n",
    "pd.DataFrame(test_val_dict).drop_duplicates() #нам интересно в целом оценить метрики, поэтому дубликаты можно не выводить"
   ]
  },
  {
   "cell_type": "markdown",
   "metadata": {},
   "source": [
    "___\n",
    "### `DecisionTreeClassifier`"
   ]
  },
  {
   "cell_type": "code",
   "execution_count": 16,
   "metadata": {
    "execution": {
     "iopub.execute_input": "2024-05-21T15:53:10.845657Z",
     "iopub.status.busy": "2024-05-21T15:53:10.844562Z",
     "iopub.status.idle": "2024-05-21T15:56:36.744587Z",
     "shell.execute_reply": "2024-05-21T15:56:36.743993Z",
     "shell.execute_reply.started": "2024-05-21T15:53:10.845615Z"
    },
    "tags": []
   },
   "outputs": [
    {
     "name": "stdout",
     "output_type": "stream",
     "text": [
      "Лучшие параметры: {'criterion': 'gini', 'max_depth': 4}\n",
      "Лучшее значение метрики качества: 0.6419694902327145\n"
     ]
    }
   ],
   "source": [
    "# Подберем параметры для DecisionTreeClassifier\n",
    "from sklearn.tree import DecisionTreeClassifier\n",
    "\n",
    "param_grid_dtc = {\n",
    "    'criterion': [\"gini\", \"entropy\", \"log_loss\"],\n",
    "    'max_depth': [4,5,6,7,8,9,10],\n",
    "    }\n",
    "\n",
    "dtc = DecisionTreeClassifier()\n",
    "grid_search_dtc = GridSearchCV(estimator = dtc,  param_grid = param_grid_dtc, cv = StratifiedKFold(5),\n",
    "                                return_train_score=True, scoring = 'roc_auc', n_jobs=2)\n",
    "grid_search_dtc.fit(X_train_matrix, y_train_arr)\n",
    "best_params_dtc = grid_search_dtc.best_params_\n",
    "best_score_dtc = grid_search_dtc.best_score_\n",
    "print(\"Лучшие параметры:\", best_params_dtc)\n",
    "print (\"Лучшее значение метрики качества:\", best_score_dtc)"
   ]
  },
  {
   "cell_type": "code",
   "execution_count": 19,
   "metadata": {
    "execution": {
     "iopub.execute_input": "2024-05-21T15:59:28.183292Z",
     "iopub.status.busy": "2024-05-21T15:59:28.182472Z",
     "iopub.status.idle": "2024-05-21T15:59:28.201520Z",
     "shell.execute_reply": "2024-05-21T15:59:28.200992Z",
     "shell.execute_reply.started": "2024-05-21T15:59:28.183264Z"
    }
   },
   "outputs": [
    {
     "name": "stdout",
     "output_type": "stream",
     "text": [
      "Тестовые и валидационные метрики из GridSearchCV:\n"
     ]
    },
    {
     "data": {
      "text/html": [
       "<div>\n",
       "<style scoped>\n",
       "    .dataframe tbody tr th:only-of-type {\n",
       "        vertical-align: middle;\n",
       "    }\n",
       "\n",
       "    .dataframe tbody tr th {\n",
       "        vertical-align: top;\n",
       "    }\n",
       "\n",
       "    .dataframe thead th {\n",
       "        text-align: right;\n",
       "    }\n",
       "</style>\n",
       "<table border=\"1\" class=\"dataframe\">\n",
       "  <thead>\n",
       "    <tr style=\"text-align: right;\">\n",
       "      <th></th>\n",
       "      <th>mean_train_score</th>\n",
       "      <th>mean_test_score</th>\n",
       "      <th>std_test_score</th>\n",
       "    </tr>\n",
       "  </thead>\n",
       "  <tbody>\n",
       "    <tr>\n",
       "      <th>0</th>\n",
       "      <td>0.715165</td>\n",
       "      <td>0.641969</td>\n",
       "      <td>0.017191</td>\n",
       "    </tr>\n",
       "  </tbody>\n",
       "</table>\n",
       "</div>"
      ],
      "text/plain": [
       "   mean_train_score  mean_test_score  std_test_score\n",
       "0          0.715165         0.641969        0.017191"
      ]
     },
     "execution_count": 19,
     "metadata": {},
     "output_type": "execute_result"
    }
   ],
   "source": [
    "# Проверим получившиеся метрики\n",
    "test_val_dict = dict()\n",
    "test_val_dict = get_metrics(grid_search_dtc, test_val_dict)\n",
    "print('Тестовые и валидационные метрики из GridSearchCV:')\n",
    "pd.DataFrame(test_val_dict).drop_duplicates() #нам интересно в целом оценить метрики, поэтому дубликаты можно не выводить"
   ]
  },
  {
   "cell_type": "markdown",
   "metadata": {},
   "source": [
    "___\n",
    "### `RandomForestClassifier`"
   ]
  },
  {
   "cell_type": "code",
   "execution_count": 20,
   "metadata": {
    "execution": {
     "iopub.execute_input": "2024-05-21T16:00:33.876221Z",
     "iopub.status.busy": "2024-05-21T16:00:33.875378Z",
     "iopub.status.idle": "2024-05-21T16:10:49.515207Z",
     "shell.execute_reply": "2024-05-21T16:10:49.514487Z",
     "shell.execute_reply.started": "2024-05-21T16:00:33.876183Z"
    },
    "tags": []
   },
   "outputs": [
    {
     "name": "stdout",
     "output_type": "stream",
     "text": [
      "Лучшие параметры: {'criterion': 'log_loss', 'max_depth': 3, 'n_estimators': 300}\n",
      "Лучшее значение метрики качества: 0.7342188086870225\n"
     ]
    }
   ],
   "source": [
    "# Подберем параметры для RandomForestClassifier\n",
    "from sklearn.ensemble import RandomForestClassifier\n",
    "\n",
    "param_grid_rfc1 = {\n",
    "    #\"min_samples_splitint\": [10, 100, 1000],\n",
    "    #'min_samples_leafint': [10, 100, 1000],\n",
    "    'criterion': [\"gini\", \"entropy\", \"log_loss\"],\n",
    "    'max_depth': [1,2,3],\n",
    "    'n_estimators': [200, 300, 400]\n",
    "    }\n",
    "\n",
    "rfc = RandomForestClassifier()\n",
    "grid_search_rfc1 = GridSearchCV(estimator = rfc,  param_grid = param_grid_rfc1, cv = StratifiedKFold(5),\n",
    "                                return_train_score=True, scoring = 'roc_auc', n_jobs=2)\n",
    "grid_search_rfc1.fit(X_train_matrix, y_train_arr)\n",
    "best_params_rfc1 = grid_search_rfc1.best_params_\n",
    "best_score_rfc1 = grid_search_rfc1.best_score_\n",
    "print(\"Лучшие параметры:\", best_params_rfc1)\n",
    "print (\"Лучшее значение метрики качества:\", best_score_rfc1)"
   ]
  },
  {
   "cell_type": "code",
   "execution_count": 22,
   "metadata": {
    "execution": {
     "iopub.execute_input": "2024-05-21T16:20:36.312857Z",
     "iopub.status.busy": "2024-05-21T16:20:36.312456Z",
     "iopub.status.idle": "2024-05-21T16:20:36.334725Z",
     "shell.execute_reply": "2024-05-21T16:20:36.334054Z",
     "shell.execute_reply.started": "2024-05-21T16:20:36.312826Z"
    }
   },
   "outputs": [
    {
     "name": "stdout",
     "output_type": "stream",
     "text": [
      "Тестовые и валидационные метрики из GridSearchCV:\n"
     ]
    },
    {
     "data": {
      "text/html": [
       "<div>\n",
       "<style scoped>\n",
       "    .dataframe tbody tr th:only-of-type {\n",
       "        vertical-align: middle;\n",
       "    }\n",
       "\n",
       "    .dataframe tbody tr th {\n",
       "        vertical-align: top;\n",
       "    }\n",
       "\n",
       "    .dataframe thead th {\n",
       "        text-align: right;\n",
       "    }\n",
       "</style>\n",
       "<table border=\"1\" class=\"dataframe\">\n",
       "  <thead>\n",
       "    <tr style=\"text-align: right;\">\n",
       "      <th></th>\n",
       "      <th>mean_train_score</th>\n",
       "      <th>mean_test_score</th>\n",
       "      <th>std_test_score</th>\n",
       "    </tr>\n",
       "  </thead>\n",
       "  <tbody>\n",
       "    <tr>\n",
       "      <th>25</th>\n",
       "      <td>0.807196</td>\n",
       "      <td>0.734219</td>\n",
       "      <td>0.010883</td>\n",
       "    </tr>\n",
       "  </tbody>\n",
       "</table>\n",
       "</div>"
      ],
      "text/plain": [
       "    mean_train_score  mean_test_score  std_test_score\n",
       "25          0.807196         0.734219        0.010883"
      ]
     },
     "execution_count": 22,
     "metadata": {},
     "output_type": "execute_result"
    }
   ],
   "source": [
    "# Проверим получившиеся метрики\n",
    "test_val_dict = dict()\n",
    "test_val_dict = get_metrics(grid_search_rfc1, test_val_dict)\n",
    "print('Тестовые и валидационные метрики из GridSearchCV:')\n",
    "pd.DataFrame(test_val_dict).drop_duplicates() #нам интересно в целом оценить метрики, поэтому дубликаты можно не выводить"
   ]
  },
  {
   "cell_type": "code",
   "execution_count": 21,
   "metadata": {
    "execution": {
     "iopub.execute_input": "2024-05-21T16:10:49.517210Z",
     "iopub.status.busy": "2024-05-21T16:10:49.516357Z",
     "iopub.status.idle": "2024-05-21T16:20:36.310884Z",
     "shell.execute_reply": "2024-05-21T16:20:36.310239Z",
     "shell.execute_reply.started": "2024-05-21T16:10:49.517181Z"
    },
    "tags": []
   },
   "outputs": [
    {
     "name": "stdout",
     "output_type": "stream",
     "text": [
      "Лучшие параметры: {'criterion': 'gini', 'max_depth': 5, 'n_estimators': 400}\n",
      "Лучшее значение метрики качества: 0.7439753347983313\n"
     ]
    }
   ],
   "source": [
    "# При увеличении количества деревьев качество растет. Попробуем увеличить их количество\n",
    "from sklearn.ensemble import RandomForestClassifier\n",
    "\n",
    "param_grid_rfc2 = {\n",
    "    'criterion': [\"gini\"],\n",
    "    'max_depth': [3, 4, 5],\n",
    "    'n_estimators': [400, 500, 600]\n",
    "    }\n",
    "\n",
    "rfc = RandomForestClassifier()\n",
    "grid_search_rfc2 = GridSearchCV(estimator = rfc,  param_grid = param_grid_rfc2, cv = StratifiedKFold(5),\n",
    "                                return_train_score=True, scoring = 'roc_auc', n_jobs=2)\n",
    "grid_search_rfc2.fit(X_train_matrix, y_train_arr)\n",
    "best_params_rfc2 = grid_search_rfc2.best_params_\n",
    "best_score_rfc2 = grid_search_rfc2.best_score_\n",
    "print(\"Лучшие параметры:\", best_params_rfc2)\n",
    "print (\"Лучшее значение метрики качества:\", best_score_rfc2)"
   ]
  },
  {
   "cell_type": "code",
   "execution_count": 23,
   "metadata": {
    "execution": {
     "iopub.execute_input": "2024-05-21T16:20:36.336492Z",
     "iopub.status.busy": "2024-05-21T16:20:36.335648Z",
     "iopub.status.idle": "2024-05-21T16:20:36.356278Z",
     "shell.execute_reply": "2024-05-21T16:20:36.355720Z",
     "shell.execute_reply.started": "2024-05-21T16:20:36.336454Z"
    }
   },
   "outputs": [
    {
     "name": "stdout",
     "output_type": "stream",
     "text": [
      "Тестовые и валидационные метрики из GridSearchCV:\n"
     ]
    },
    {
     "data": {
      "text/html": [
       "<div>\n",
       "<style scoped>\n",
       "    .dataframe tbody tr th:only-of-type {\n",
       "        vertical-align: middle;\n",
       "    }\n",
       "\n",
       "    .dataframe tbody tr th {\n",
       "        vertical-align: top;\n",
       "    }\n",
       "\n",
       "    .dataframe thead th {\n",
       "        text-align: right;\n",
       "    }\n",
       "</style>\n",
       "<table border=\"1\" class=\"dataframe\">\n",
       "  <thead>\n",
       "    <tr style=\"text-align: right;\">\n",
       "      <th></th>\n",
       "      <th>mean_train_score</th>\n",
       "      <th>mean_test_score</th>\n",
       "      <th>std_test_score</th>\n",
       "    </tr>\n",
       "  </thead>\n",
       "  <tbody>\n",
       "    <tr>\n",
       "      <th>6</th>\n",
       "      <td>0.904582</td>\n",
       "      <td>0.743975</td>\n",
       "      <td>0.01133</td>\n",
       "    </tr>\n",
       "  </tbody>\n",
       "</table>\n",
       "</div>"
      ],
      "text/plain": [
       "   mean_train_score  mean_test_score  std_test_score\n",
       "6          0.904582         0.743975         0.01133"
      ]
     },
     "execution_count": 23,
     "metadata": {},
     "output_type": "execute_result"
    }
   ],
   "source": [
    "# Проверим получившиеся метрики\n",
    "test_val_dict = dict()\n",
    "test_val_dict = get_metrics(grid_search_rfc2, test_val_dict)\n",
    "print('Тестовые и валидационные метрики из GridSearchCV:')\n",
    "pd.DataFrame(test_val_dict).drop_duplicates() #нам интересно в целом оценить метрики, поэтому дубликаты можно не выводить\n",
    "# Модель начинает переобучатся. Дальнейшее увеличение деревьев не имеет смысла."
   ]
  },
  {
   "cell_type": "markdown",
   "metadata": {},
   "source": [
    "___\n",
    "### `GradientBoostingClassifier`"
   ]
  },
  {
   "cell_type": "markdown",
   "metadata": {},
   "source": [
    "Лучшие параметры: {'criterion': 'friedman_mse', 'learning_rate': 0.1, 'loss': 'log_loss', 'max_depth': 1, 'n_estimators': 200}\n",
    "Лучшее значение метрики качества: 0.7507587332826351"
   ]
  },
  {
   "cell_type": "code",
   "execution_count": 25,
   "metadata": {
    "execution": {
     "iopub.execute_input": "2024-05-21T16:42:03.907780Z",
     "iopub.status.busy": "2024-05-21T16:42:03.906949Z",
     "iopub.status.idle": "2024-05-21T17:03:14.089328Z",
     "shell.execute_reply": "2024-05-21T17:03:14.088703Z",
     "shell.execute_reply.started": "2024-05-21T16:42:03.907728Z"
    },
    "tags": []
   },
   "outputs": [
    {
     "name": "stdout",
     "output_type": "stream",
     "text": [
      "Лучшие параметры: {'criterion': 'friedman_mse', 'learning_rate': 0.1, 'loss': 'log_loss', 'max_depth': 1, 'n_estimators': 200}\n",
      "Лучшее значение метрики качества: 0.7507587332826351\n"
     ]
    }
   ],
   "source": [
    "# Подберем параметры для GradientBoostingClassifier. Так как он достаточно ресурсоемкий\n",
    "# будет подбирать параметры в несколько итераций\n",
    "from sklearn.ensemble import GradientBoostingClassifier\n",
    "\n",
    "param_grid_gbc = {\n",
    "    \"loss\":[\"log_loss\", \"exponential\"],\n",
    "    \"criterion\": [\"friedman_mse\", \"squared_error\"],\n",
    "    'learning_rate': [0.1],\n",
    "    'max_depth': [1],\n",
    "    'n_estimators': [200]\n",
    "    }\n",
    "\n",
    "gbc = GradientBoostingClassifier()\n",
    "grid_search_gbc = GridSearchCV(estimator = gbc,  param_grid = param_grid_gbc, cv = StratifiedKFold(5),\n",
    "                                return_train_score=True, scoring = 'roc_auc', n_jobs=2)\n",
    "grid_search_gbc.fit(X_train_matrix, y_train_arr)\n",
    "best_params_gbc = grid_search_gbc.best_params_\n",
    "best_score_gbc = grid_search_gbc.best_score_\n",
    "print(\"Лучшие параметры:\", best_params_gbc)\n",
    "print (\"Лучшее значение метрики качества:\", best_score_gbc)"
   ]
  },
  {
   "cell_type": "code",
   "execution_count": 26,
   "metadata": {
    "execution": {
     "iopub.execute_input": "2024-05-21T17:03:14.091476Z",
     "iopub.status.busy": "2024-05-21T17:03:14.090518Z",
     "iopub.status.idle": "2024-05-21T17:03:14.109818Z",
     "shell.execute_reply": "2024-05-21T17:03:14.109199Z",
     "shell.execute_reply.started": "2024-05-21T17:03:14.091446Z"
    }
   },
   "outputs": [
    {
     "name": "stdout",
     "output_type": "stream",
     "text": [
      "Тестовые и валидационные метрики из GridSearchCV:\n"
     ]
    },
    {
     "data": {
      "text/html": [
       "<div>\n",
       "<style scoped>\n",
       "    .dataframe tbody tr th:only-of-type {\n",
       "        vertical-align: middle;\n",
       "    }\n",
       "\n",
       "    .dataframe tbody tr th {\n",
       "        vertical-align: top;\n",
       "    }\n",
       "\n",
       "    .dataframe thead th {\n",
       "        text-align: right;\n",
       "    }\n",
       "</style>\n",
       "<table border=\"1\" class=\"dataframe\">\n",
       "  <thead>\n",
       "    <tr style=\"text-align: right;\">\n",
       "      <th></th>\n",
       "      <th>mean_train_score</th>\n",
       "      <th>mean_test_score</th>\n",
       "      <th>std_test_score</th>\n",
       "    </tr>\n",
       "  </thead>\n",
       "  <tbody>\n",
       "    <tr>\n",
       "      <th>0</th>\n",
       "      <td>0.82014</td>\n",
       "      <td>0.750759</td>\n",
       "      <td>0.013945</td>\n",
       "    </tr>\n",
       "  </tbody>\n",
       "</table>\n",
       "</div>"
      ],
      "text/plain": [
       "   mean_train_score  mean_test_score  std_test_score\n",
       "0           0.82014         0.750759        0.013945"
      ]
     },
     "execution_count": 26,
     "metadata": {},
     "output_type": "execute_result"
    }
   ],
   "source": [
    "# Проверим получившиеся метрики\n",
    "test_val_dict = dict()\n",
    "test_val_dict = get_metrics(grid_search_gbc, test_val_dict)\n",
    "print('Тестовые и валидационные метрики из GridSearchCV:')\n",
    "pd.DataFrame(test_val_dict).drop_duplicates() #нам интересно в целом оценить метрики, поэтому дубликаты можно не выводить"
   ]
  },
  {
   "cell_type": "code",
   "execution_count": 27,
   "metadata": {
    "execution": {
     "iopub.execute_input": "2024-05-21T17:03:14.111753Z",
     "iopub.status.busy": "2024-05-21T17:03:14.110792Z",
     "iopub.status.idle": "2024-05-21T17:18:08.707138Z",
     "shell.execute_reply": "2024-05-21T17:18:08.706482Z",
     "shell.execute_reply.started": "2024-05-21T17:03:14.111719Z"
    },
    "tags": []
   },
   "outputs": [
    {
     "name": "stdout",
     "output_type": "stream",
     "text": [
      "Лучшие параметры: {'criterion': 'friedman_mse', 'learning_rate': 0.1, 'loss': 'log_loss', 'max_depth': 2, 'n_estimators': 200}\n",
      "Лучшее значение метрики качества: 0.7607630331028634\n"
     ]
    }
   ],
   "source": [
    "# Попробуем увеличить глубину деревьев\n",
    "from sklearn.ensemble import GradientBoostingClassifier\n",
    "\n",
    "param_grid_gbc2 = {\n",
    "    \"loss\":[\"log_loss\"],\n",
    "    \"criterion\": [\"friedman_mse\"],\n",
    "    'learning_rate': [0.1],\n",
    "    'max_depth': [2],\n",
    "    'n_estimators': [200]\n",
    "    }\n",
    "\n",
    "gbc = GradientBoostingClassifier()\n",
    "grid_search_gbc2 = GridSearchCV(estimator = gbc,  param_grid = param_grid_gbc2, cv = StratifiedKFold(5),\n",
    "                                return_train_score=True, scoring = 'roc_auc', n_jobs=2)\n",
    "grid_search_gbc2.fit(X_train_matrix, y_train_arr)\n",
    "best_params_gbc2 = grid_search_gbc2.best_params_\n",
    "best_score_gbc2 = grid_search_gbc2.best_score_\n",
    "print(\"Лучшие параметры:\", best_params_gbc2)\n",
    "print (\"Лучшее значение метрики качества:\", best_score_gbc2)"
   ]
  },
  {
   "cell_type": "code",
   "execution_count": 30,
   "metadata": {
    "execution": {
     "iopub.execute_input": "2024-05-21T17:29:28.992952Z",
     "iopub.status.busy": "2024-05-21T17:29:28.992171Z",
     "iopub.status.idle": "2024-05-21T17:29:29.010613Z",
     "shell.execute_reply": "2024-05-21T17:29:29.009949Z",
     "shell.execute_reply.started": "2024-05-21T17:29:28.992925Z"
    }
   },
   "outputs": [
    {
     "name": "stdout",
     "output_type": "stream",
     "text": [
      "Тестовые и валидационные метрики из GridSearchCV:\n"
     ]
    },
    {
     "data": {
      "text/html": [
       "<div>\n",
       "<style scoped>\n",
       "    .dataframe tbody tr th:only-of-type {\n",
       "        vertical-align: middle;\n",
       "    }\n",
       "\n",
       "    .dataframe tbody tr th {\n",
       "        vertical-align: top;\n",
       "    }\n",
       "\n",
       "    .dataframe thead th {\n",
       "        text-align: right;\n",
       "    }\n",
       "</style>\n",
       "<table border=\"1\" class=\"dataframe\">\n",
       "  <thead>\n",
       "    <tr style=\"text-align: right;\">\n",
       "      <th></th>\n",
       "      <th>mean_train_score</th>\n",
       "      <th>mean_test_score</th>\n",
       "      <th>std_test_score</th>\n",
       "    </tr>\n",
       "  </thead>\n",
       "  <tbody>\n",
       "    <tr>\n",
       "      <th>0</th>\n",
       "      <td>0.920988</td>\n",
       "      <td>0.760763</td>\n",
       "      <td>0.012738</td>\n",
       "    </tr>\n",
       "  </tbody>\n",
       "</table>\n",
       "</div>"
      ],
      "text/plain": [
       "   mean_train_score  mean_test_score  std_test_score\n",
       "0          0.920988         0.760763        0.012738"
      ]
     },
     "execution_count": 30,
     "metadata": {},
     "output_type": "execute_result"
    }
   ],
   "source": [
    "# Проверим получившиеся метрики\n",
    "test_val_dict = dict()\n",
    "test_val_dict = get_metrics(grid_search_gbc2, test_val_dict)\n",
    "print('Тестовые и валидационные метрики из GridSearchCV:')\n",
    "pd.DataFrame(test_val_dict).drop_duplicates() #нам интересно в целом оценить метрики, поэтому дубликаты можно не выводить"
   ]
  },
  {
   "cell_type": "code",
   "execution_count": 28,
   "metadata": {
    "execution": {
     "iopub.execute_input": "2024-05-21T17:18:08.709490Z",
     "iopub.status.busy": "2024-05-21T17:18:08.708585Z",
     "iopub.status.idle": "2024-05-21T17:25:40.429821Z",
     "shell.execute_reply": "2024-05-21T17:25:40.428992Z",
     "shell.execute_reply.started": "2024-05-21T17:18:08.709453Z"
    },
    "tags": []
   },
   "outputs": [
    {
     "name": "stdout",
     "output_type": "stream",
     "text": [
      "Лучшие параметры: {'criterion': 'friedman_mse', 'learning_rate': 0.2, 'loss': 'log_loss', 'max_depth': 1, 'n_estimators': 200}\n",
      "Лучшее значение метрики качества: 0.7584698758307615\n"
     ]
    }
   ],
   "source": [
    "# Попробуем повысить learning_rate\n",
    "from sklearn.ensemble import GradientBoostingClassifier\n",
    "\n",
    "param_grid_gbc3 = {\n",
    "    \"loss\":[\"log_loss\"],\n",
    "    \"criterion\": [\"friedman_mse\"],\n",
    "    'learning_rate': [0.2],\n",
    "    'max_depth': [1],\n",
    "    'n_estimators': [200]\n",
    "    }\n",
    "\n",
    "gbc = GradientBoostingClassifier()\n",
    "grid_search_gbc3 = GridSearchCV(estimator = gbc,  param_grid = param_grid_gbc3, cv = StratifiedKFold(5),\n",
    "                                return_train_score=True, scoring = 'roc_auc', n_jobs=2)\n",
    "grid_search_gbc3.fit(X_train_matrix, y_train_arr)\n",
    "best_params_gbc3 = grid_search_gbc3.best_params_\n",
    "best_score_gbc3 = grid_search_gbc3.best_score_\n",
    "print(\"Лучшие параметры:\", best_params_gbc3)\n",
    "print (\"Лучшее значение метрики качества:\", best_score_gbc3)"
   ]
  },
  {
   "cell_type": "code",
   "execution_count": 29,
   "metadata": {
    "execution": {
     "iopub.execute_input": "2024-05-21T17:25:40.431967Z",
     "iopub.status.busy": "2024-05-21T17:25:40.431016Z",
     "iopub.status.idle": "2024-05-21T17:25:40.458012Z",
     "shell.execute_reply": "2024-05-21T17:25:40.457450Z",
     "shell.execute_reply.started": "2024-05-21T17:25:40.431923Z"
    }
   },
   "outputs": [
    {
     "name": "stdout",
     "output_type": "stream",
     "text": [
      "Тестовые и валидационные метрики из GridSearchCV:\n"
     ]
    },
    {
     "data": {
      "text/html": [
       "<div>\n",
       "<style scoped>\n",
       "    .dataframe tbody tr th:only-of-type {\n",
       "        vertical-align: middle;\n",
       "    }\n",
       "\n",
       "    .dataframe tbody tr th {\n",
       "        vertical-align: top;\n",
       "    }\n",
       "\n",
       "    .dataframe thead th {\n",
       "        text-align: right;\n",
       "    }\n",
       "</style>\n",
       "<table border=\"1\" class=\"dataframe\">\n",
       "  <thead>\n",
       "    <tr style=\"text-align: right;\">\n",
       "      <th></th>\n",
       "      <th>mean_train_score</th>\n",
       "      <th>mean_test_score</th>\n",
       "      <th>std_test_score</th>\n",
       "    </tr>\n",
       "  </thead>\n",
       "  <tbody>\n",
       "    <tr>\n",
       "      <th>0</th>\n",
       "      <td>0.857784</td>\n",
       "      <td>0.75847</td>\n",
       "      <td>0.014361</td>\n",
       "    </tr>\n",
       "  </tbody>\n",
       "</table>\n",
       "</div>"
      ],
      "text/plain": [
       "   mean_train_score  mean_test_score  std_test_score\n",
       "0          0.857784          0.75847        0.014361"
      ]
     },
     "execution_count": 29,
     "metadata": {},
     "output_type": "execute_result"
    }
   ],
   "source": [
    "# Проверим получившиеся метрики\n",
    "test_val_dict = dict()\n",
    "test_val_dict = get_metrics(grid_search_gbc3, test_val_dict)\n",
    "print('Тестовые и валидационные метрики из GridSearchCV:')\n",
    "pd.DataFrame(test_val_dict).drop_duplicates() #нам интересно в целом оценить метрики, поэтому дубликаты можно не выводить\n",
    "# Качество ожидаемо снизилось"
   ]
  },
  {
   "cell_type": "code",
   "execution_count": 31,
   "metadata": {
    "execution": {
     "iopub.execute_input": "2024-05-21T17:30:05.380183Z",
     "iopub.status.busy": "2024-05-21T17:30:05.379352Z",
     "iopub.status.idle": "2024-05-21T18:02:59.330486Z",
     "shell.execute_reply": "2024-05-21T18:02:59.329692Z",
     "shell.execute_reply.started": "2024-05-21T17:30:05.380153Z"
    },
    "tags": []
   },
   "outputs": [
    {
     "name": "stdout",
     "output_type": "stream",
     "text": [
      "Лучшие параметры: {'criterion': 'friedman_mse', 'learning_rate': 0.1, 'loss': 'log_loss', 'max_depth': 3, 'n_estimators': 300}\n",
      "Лучшее значение метрики качества: 0.7622134256101687\n"
     ]
    }
   ],
   "source": [
    "# Попробуем увеличить глубину деревьев и их количество\n",
    "from sklearn.ensemble import GradientBoostingClassifier\n",
    "\n",
    "param_grid_gbc4 = {\n",
    "    \"loss\":[\"log_loss\"],\n",
    "    \"criterion\": [\"friedman_mse\"],\n",
    "    'learning_rate': [0.1],\n",
    "    'max_depth': [3],\n",
    "    'n_estimators': [300]\n",
    "    }\n",
    "\n",
    "gbc = GradientBoostingClassifier()\n",
    "grid_search_gbc4 = GridSearchCV(estimator = gbc,  param_grid = param_grid_gbc4, cv = StratifiedKFold(5),\n",
    "                                return_train_score=True, scoring = 'roc_auc', n_jobs=2)\n",
    "grid_search_gbc4.fit(X_train_matrix, y_train_arr)\n",
    "best_params_gbc4 = grid_search_gbc4.best_params_\n",
    "best_score_gbc4 = grid_search_gbc4.best_score_\n",
    "print(\"Лучшие параметры:\", best_params_gbc4)\n",
    "print (\"Лучшее значение метрики качества:\", best_score_gbc4)"
   ]
  },
  {
   "cell_type": "code",
   "execution_count": 32,
   "metadata": {
    "execution": {
     "iopub.execute_input": "2024-05-21T18:02:59.332730Z",
     "iopub.status.busy": "2024-05-21T18:02:59.331838Z",
     "iopub.status.idle": "2024-05-21T18:02:59.355521Z",
     "shell.execute_reply": "2024-05-21T18:02:59.354884Z",
     "shell.execute_reply.started": "2024-05-21T18:02:59.332690Z"
    },
    "tags": []
   },
   "outputs": [
    {
     "name": "stdout",
     "output_type": "stream",
     "text": [
      "Тестовые и валидационные метрики из GridSearchCV:\n"
     ]
    },
    {
     "data": {
      "text/html": [
       "<div>\n",
       "<style scoped>\n",
       "    .dataframe tbody tr th:only-of-type {\n",
       "        vertical-align: middle;\n",
       "    }\n",
       "\n",
       "    .dataframe tbody tr th {\n",
       "        vertical-align: top;\n",
       "    }\n",
       "\n",
       "    .dataframe thead th {\n",
       "        text-align: right;\n",
       "    }\n",
       "</style>\n",
       "<table border=\"1\" class=\"dataframe\">\n",
       "  <thead>\n",
       "    <tr style=\"text-align: right;\">\n",
       "      <th></th>\n",
       "      <th>mean_train_score</th>\n",
       "      <th>mean_test_score</th>\n",
       "      <th>std_test_score</th>\n",
       "    </tr>\n",
       "  </thead>\n",
       "  <tbody>\n",
       "    <tr>\n",
       "      <th>0</th>\n",
       "      <td>0.994923</td>\n",
       "      <td>0.762213</td>\n",
       "      <td>0.012588</td>\n",
       "    </tr>\n",
       "  </tbody>\n",
       "</table>\n",
       "</div>"
      ],
      "text/plain": [
       "   mean_train_score  mean_test_score  std_test_score\n",
       "0          0.994923         0.762213        0.012588"
      ]
     },
     "execution_count": 32,
     "metadata": {},
     "output_type": "execute_result"
    }
   ],
   "source": [
    "# Проверим получившиеся метрики\n",
    "test_val_dict = dict()\n",
    "test_val_dict = get_metrics(grid_search_gbc4, test_val_dict)\n",
    "print('Тестовые и валидационные метрики из GridSearchCV:')\n",
    "pd.DataFrame(test_val_dict).drop_duplicates() #нам интересно в целом оценить метрики, поэтому дубликаты можно не выводить\n",
    "# Модель переобучается. Дальнейшее повышение глубины и количества деревьев не имеет смысла"
   ]
  }
 ],
 "metadata": {
  "kernelspec": {
   "display_name": "DataSphere Kernel",
   "language": "python",
   "name": "python3"
  },
  "language_info": {
   "codemirror_mode": {
    "name": "ipython",
    "version": 3
   },
   "file_extension": ".py",
   "mimetype": "text/x-python",
   "name": "python",
   "nbconvert_exporter": "python",
   "pygments_lexer": "ipython3",
   "version": "3.10.12"
  }
 },
 "nbformat": 4,
 "nbformat_minor": 4
}
