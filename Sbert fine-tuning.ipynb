{
 "cells": [
  {
   "cell_type": "markdown",
   "metadata": {},
   "source": [
    "<img src='static/img/logo.gif' width=400>\n",
    "\n",
    "# Хакатон. Задача от `B`e`e`l`i`n`e`\n",
    "\n",
    "##### `Задача`: необходимо создать модель для бинарной классификации аудиофрагментов с целью определения качества их транскрибации."
   ]
  },
  {
   "cell_type": "markdown",
   "metadata": {},
   "source": [
    "___\n",
    "# <center> <a style='color:gold'>Sbert fine-tuning</a>\n",
    "___\n",
    "### <a id=100 style='color:gold'>Содержание</a>\n",
    "\n",
    "- [Предобработка данных](#555)\n",
    "    - [Импорт данных](#1)\n",
    "    - [Разделение на выборки](#2)\n",
    "    - [Токенизация и создание датасета](#3)\n",
    "\n",
    "- [Дообучение модели](#4)\n",
    "\n",
    "- [Оценка качества и сохранение модели](#5)\n",
    "\n",
    "- [Загрузка модели на Huggingface](#6)\n",
    "\n",
    "- [Инференс модели](#7)"
   ]
  },
  {
   "cell_type": "markdown",
   "metadata": {},
   "source": [
    "___\n",
    "## <center> <a id=1 style='color:gold'>Импорт данных</a>"
   ]
  },
  {
   "cell_type": "markdown",
   "metadata": {},
   "source": [
    "### Импорт библиотек"
   ]
  },
  {
   "cell_type": "code",
   "execution_count": 1,
   "metadata": {},
   "outputs": [
    {
     "name": "stderr",
     "output_type": "stream",
     "text": [
      "Seed set to 42\n"
     ]
    }
   ],
   "source": [
    "%matplotlib inline\n",
    "from tqdm import trange\n",
    "import matplotlib.pyplot as plt\n",
    "import pandas as pd\n",
    "import numpy as np\n",
    "import torch\n",
    "import torch.nn as nn\n",
    "from pytorch_lightning import seed_everything\n",
    "from transformers import TrainingArguments, Trainer\n",
    "from transformers import BertTokenizer, BertForSequenceClassification\n",
    "from datasets import  Dataset\n",
    "from sklearn.model_selection import train_test_split\n",
    "from sklearn.metrics import classification_report, roc_auc_score, roc_curve\n",
    "from huggingface_hub import notebook_login\n",
    "\n",
    "\n",
    "seed_everything(42)\n",
    "np.random.seed(42)"
   ]
  },
  {
   "cell_type": "markdown",
   "metadata": {},
   "source": [
    "### Импорт обучающего датафрейма"
   ]
  },
  {
   "cell_type": "code",
   "execution_count": 2,
   "metadata": {},
   "outputs": [
    {
     "data": {
      "text/html": [
       "<div>\n",
       "<style scoped>\n",
       "    .dataframe tbody tr th:only-of-type {\n",
       "        vertical-align: middle;\n",
       "    }\n",
       "\n",
       "    .dataframe tbody tr th {\n",
       "        vertical-align: top;\n",
       "    }\n",
       "\n",
       "    .dataframe thead th {\n",
       "        text-align: right;\n",
       "    }\n",
       "</style>\n",
       "<table border=\"1\" class=\"dataframe\">\n",
       "  <thead>\n",
       "    <tr style=\"text-align: right;\">\n",
       "      <th></th>\n",
       "      <th>model_annotation</th>\n",
       "      <th>human_markup</th>\n",
       "      <th>audio_path</th>\n",
       "      <th>label</th>\n",
       "    </tr>\n",
       "  </thead>\n",
       "  <tbody>\n",
       "    <tr>\n",
       "      <th>0</th>\n",
       "      <td>давай по россии значит на коленях быстро блять...</td>\n",
       "      <td>давай проси значит на коленях быстро блять</td>\n",
       "      <td>s3://ap-training-set/xacaton_openstt/part_1/05...</td>\n",
       "      <td>1</td>\n",
       "    </tr>\n",
       "    <tr>\n",
       "      <th>1</th>\n",
       "      <td>ну разве можно так с телефоном поступает</td>\n",
       "      <td>ну что ну разве можно так с телефоном поступать</td>\n",
       "      <td>s3://ap-training-set/xacaton_openstt/part_1/05...</td>\n",
       "      <td>0</td>\n",
       "    </tr>\n",
       "    <tr>\n",
       "      <th>2</th>\n",
       "      <td>у меня нет с собой в полном адресе я щас дома ...</td>\n",
       "      <td>у меня нет с собой полного адреса я щас из дом...</td>\n",
       "      <td>s3://ap-training-set/xacaton_openstt/part_1/05...</td>\n",
       "      <td>0</td>\n",
       "    </tr>\n",
       "  </tbody>\n",
       "</table>\n",
       "</div>"
      ],
      "text/plain": [
       "                                    model_annotation  \\\n",
       "0  давай по россии значит на коленях быстро блять...   \n",
       "1           ну разве можно так с телефоном поступает   \n",
       "2  у меня нет с собой в полном адресе я щас дома ...   \n",
       "\n",
       "                                        human_markup  \\\n",
       "0         давай проси значит на коленях быстро блять   \n",
       "1    ну что ну разве можно так с телефоном поступать   \n",
       "2  у меня нет с собой полного адреса я щас из дом...   \n",
       "\n",
       "                                          audio_path  label  \n",
       "0  s3://ap-training-set/xacaton_openstt/part_1/05...      1  \n",
       "1  s3://ap-training-set/xacaton_openstt/part_1/05...      0  \n",
       "2  s3://ap-training-set/xacaton_openstt/part_1/05...      0  "
      ]
     },
     "execution_count": 2,
     "metadata": {},
     "output_type": "execute_result"
    }
   ],
   "source": [
    "FILE_PATH = 'data/hackaton_result_dataset.xlsx'\n",
    "\n",
    "df_train = pd.read_excel(FILE_PATH)\n",
    "df_train[:3]"
   ]
  },
  {
   "cell_type": "markdown",
   "metadata": {},
   "source": [
    "### Импорт тестового датафрейма"
   ]
  },
  {
   "cell_type": "code",
   "execution_count": 3,
   "metadata": {},
   "outputs": [
    {
     "data": {
      "text/html": [
       "<div>\n",
       "<style scoped>\n",
       "    .dataframe tbody tr th:only-of-type {\n",
       "        vertical-align: middle;\n",
       "    }\n",
       "\n",
       "    .dataframe tbody tr th {\n",
       "        vertical-align: top;\n",
       "    }\n",
       "\n",
       "    .dataframe thead th {\n",
       "        text-align: right;\n",
       "    }\n",
       "</style>\n",
       "<table border=\"1\" class=\"dataframe\">\n",
       "  <thead>\n",
       "    <tr style=\"text-align: right;\">\n",
       "      <th></th>\n",
       "      <th>annotation_fastconformer</th>\n",
       "      <th>human_markup</th>\n",
       "      <th>audio_path</th>\n",
       "      <th>label</th>\n",
       "    </tr>\n",
       "  </thead>\n",
       "  <tbody>\n",
       "    <tr>\n",
       "      <th>0</th>\n",
       "      <td>у нас здесь муж много</td>\n",
       "      <td>вот у нас здесь мух много</td>\n",
       "      <td>51b0fadce17e.wav</td>\n",
       "      <td>0</td>\n",
       "    </tr>\n",
       "    <tr>\n",
       "      <th>1</th>\n",
       "      <td>понимаешь если бы это был случай он тебя не бо...</td>\n",
       "      <td>понимаешь если бы это было случайно он бы тебя...</td>\n",
       "      <td>42e052ce1540.wav</td>\n",
       "      <td>0</td>\n",
       "    </tr>\n",
       "    <tr>\n",
       "      <th>2</th>\n",
       "      <td>вот как ты языков своих трепишь блять они еще ...</td>\n",
       "      <td>вот как ты языком своим треплешь блять они ещё...</td>\n",
       "      <td>42de1bfba887.wav</td>\n",
       "      <td>0</td>\n",
       "    </tr>\n",
       "  </tbody>\n",
       "</table>\n",
       "</div>"
      ],
      "text/plain": [
       "                            annotation_fastconformer  \\\n",
       "0                              у нас здесь муж много   \n",
       "1  понимаешь если бы это был случай он тебя не бо...   \n",
       "2  вот как ты языков своих трепишь блять они еще ...   \n",
       "\n",
       "                                        human_markup        audio_path  label  \n",
       "0                          вот у нас здесь мух много  51b0fadce17e.wav      0  \n",
       "1  понимаешь если бы это было случайно он бы тебя...  42e052ce1540.wav      0  \n",
       "2  вот как ты языком своим треплешь блять они ещё...  42de1bfba887.wav      0  "
      ]
     },
     "execution_count": 3,
     "metadata": {},
     "output_type": "execute_result"
    }
   ],
   "source": [
    "FILE_PATH = 'data/data_part1.xlsx'\n",
    "\n",
    "df_test = pd.read_excel(FILE_PATH)\n",
    "df_test[:3]"
   ]
  },
  {
   "cell_type": "markdown",
   "metadata": {},
   "source": [
    "___\n",
    "## <center> <a id=2 style='color:gold'>Разделение на выборки</a>"
   ]
  },
  {
   "cell_type": "markdown",
   "metadata": {},
   "source": [
    "### Валидационная и обучающая"
   ]
  },
  {
   "cell_type": "code",
   "execution_count": 4,
   "metadata": {},
   "outputs": [
    {
     "data": {
      "text/plain": [
       "((5857,), (5857,), (651,), (651,))"
      ]
     },
     "execution_count": 4,
     "metadata": {},
     "output_type": "execute_result"
    }
   ],
   "source": [
    "X = df_train['model_annotation']\n",
    "y = df_train['label']\n",
    "\n",
    "X_train, X_val, y_train, y_val = train_test_split(X, y, test_size=0.1)\n",
    "\n",
    "X_train = X_train.astype('str').reset_index(drop=True)\n",
    "y_train = y_train.reset_index(drop=True)\n",
    "X_val = X_val.astype('str').reset_index(drop=True)\n",
    "y_val = y_val.reset_index(drop=True)\n",
    "\n",
    "X_train.shape, y_train.shape, X_val.shape, y_val.shape"
   ]
  },
  {
   "cell_type": "markdown",
   "metadata": {},
   "source": [
    "### Тестовая выборка"
   ]
  },
  {
   "cell_type": "code",
   "execution_count": 5,
   "metadata": {},
   "outputs": [
    {
     "data": {
      "text/plain": [
       "((10000,), (10000,))"
      ]
     },
     "execution_count": 5,
     "metadata": {},
     "output_type": "execute_result"
    }
   ],
   "source": [
    "X = df_test['annotation_fastconformer']\n",
    "y = df_test['label']\n",
    "X_test = X.astype('str').reset_index(drop=True)\n",
    "y_test = y.reset_index(drop=True)\n",
    "\n",
    "X_test.shape, y_test.shape"
   ]
  },
  {
   "cell_type": "markdown",
   "metadata": {},
   "source": [
    "___\n",
    "## <center> <a id=3 style='color:gold'>Токенизация и создание датасета</a>"
   ]
  },
  {
   "cell_type": "markdown",
   "metadata": {},
   "source": [
    "### Импорт токенайзера"
   ]
  },
  {
   "cell_type": "code",
   "execution_count": null,
   "metadata": {},
   "outputs": [],
   "source": [
    "tokenizer = BertTokenizer.from_pretrained(\"ai-forever/sbert_large_mt_nlu_ru\")"
   ]
  },
  {
   "cell_type": "markdown",
   "metadata": {},
   "source": [
    "### Токенизация выборок\n",
    "\n",
    "- max_length: максимальная длина последовательности\n",
    "- pad_to_max_length: следует ли дополнять последовательности до максимальной длины\n",
    "- truncation: следует ли усекать последовательности, превышающие максимальную длину"
   ]
  },
  {
   "cell_type": "code",
   "execution_count": 8,
   "metadata": {},
   "outputs": [],
   "source": [
    "tokens_train = tokenizer.batch_encode_plus(X_train.values)\n",
    "tokens_val = tokenizer.batch_encode_plus(X_val.values)\n",
    "tokens_test = tokenizer.batch_encode_plus(X_test.values)"
   ]
  },
  {
   "cell_type": "markdown",
   "metadata": {},
   "source": [
    "### Создание датасетов для модели"
   ]
  },
  {
   "cell_type": "code",
   "execution_count": 9,
   "metadata": {},
   "outputs": [],
   "source": [
    "class Data(torch.utils.data.Dataset):\n",
    "    def __init__(self, encodings, labels):\n",
    "        self.encodings = encodings\n",
    "        self.labels = labels\n",
    "        \n",
    "    def __getitem__(self, idx):\n",
    "        item = {k: torch.tensor(v[idx]) for k, v in self.encodings.items()}\n",
    "        item[\"labels\"] = torch.tensor([self.labels[idx]])\n",
    "        return item\n",
    "    def __len__(self):\n",
    "        return len(self.labels)\n",
    "    \n",
    "train_dataset = Data(tokens_train, y_train)\n",
    "val_dataset = Data(tokens_val, y_val)\n",
    "test_dataset = Data(tokens_test, y_test)"
   ]
  },
  {
   "cell_type": "markdown",
   "metadata": {},
   "source": [
    "___\n",
    "## <center> <a id=4 style='color:gold'>Дообучение модели</a>"
   ]
  },
  {
   "cell_type": "markdown",
   "metadata": {},
   "source": [
    "### Импорт исходной модели\n"
   ]
  },
  {
   "cell_type": "code",
   "execution_count": null,
   "metadata": {},
   "outputs": [],
   "source": [
    "model = BertForSequenceClassification.from_pretrained('ai-forever/sbert_large_mt_nlu_ru', num_labels=2).to(\"cuda\")"
   ]
  },
  {
   "cell_type": "markdown",
   "metadata": {},
   "source": [
    "### Загрузка обученной модели"
   ]
  },
  {
   "cell_type": "code",
   "execution_count": 10,
   "metadata": {},
   "outputs": [],
   "source": [
    "model = BertForSequenceClassification.from_pretrained('data/models/ft_l15_80_sbert_large', num_labels=2).to(\"cuda\")"
   ]
  },
  {
   "cell_type": "markdown",
   "metadata": {},
   "source": [
    "- Отключение слоев"
   ]
  },
  {
   "cell_type": "code",
   "execution_count": 11,
   "metadata": {},
   "outputs": [
    {
     "data": {
      "text/plain": [
       "Linear(in_features=1024, out_features=2, bias=True)"
      ]
     },
     "execution_count": 11,
     "metadata": {},
     "output_type": "execute_result"
    }
   ],
   "source": [
    "for param in model.bert.parameters():\n",
    "    param.requires_grad = False\n",
    "\n",
    "model.classifier"
   ]
  },
  {
   "cell_type": "markdown",
   "metadata": {},
   "source": [
    "- Включение слоев"
   ]
  },
  {
   "cell_type": "code",
   "execution_count": 13,
   "metadata": {},
   "outputs": [
    {
     "data": {
      "text/plain": [
       "ModuleList(\n",
       "  (0-23): 24 x BertLayer(\n",
       "    (attention): BertAttention(\n",
       "      (self): BertSelfAttention(\n",
       "        (query): Linear(in_features=1024, out_features=1024, bias=True)\n",
       "        (key): Linear(in_features=1024, out_features=1024, bias=True)\n",
       "        (value): Linear(in_features=1024, out_features=1024, bias=True)\n",
       "        (dropout): Dropout(p=0.1, inplace=False)\n",
       "      )\n",
       "      (output): BertSelfOutput(\n",
       "        (dense): Linear(in_features=1024, out_features=1024, bias=True)\n",
       "        (LayerNorm): LayerNorm((1024,), eps=1e-12, elementwise_affine=True)\n",
       "        (dropout): Dropout(p=0.1, inplace=False)\n",
       "      )\n",
       "    )\n",
       "    (intermediate): BertIntermediate(\n",
       "      (dense): Linear(in_features=1024, out_features=4096, bias=True)\n",
       "      (intermediate_act_fn): GELUActivation()\n",
       "    )\n",
       "    (output): BertOutput(\n",
       "      (dense): Linear(in_features=4096, out_features=1024, bias=True)\n",
       "      (LayerNorm): LayerNorm((1024,), eps=1e-12, elementwise_affine=True)\n",
       "      (dropout): Dropout(p=0.1, inplace=False)\n",
       "    )\n",
       "  )\n",
       ")"
      ]
     },
     "execution_count": 13,
     "metadata": {},
     "output_type": "execute_result"
    }
   ],
   "source": [
    "for i in range(15, 24):\n",
    "    for param in model.bert.encoder.layer[i].parameters():\n",
    "        param.requires_grad = True\n",
    "\n",
    "model.bert.encoder.layer"
   ]
  },
  {
   "cell_type": "markdown",
   "metadata": {},
   "source": [
    "### Вычисление метрик при обучении"
   ]
  },
  {
   "cell_type": "code",
   "execution_count": 14,
   "metadata": {},
   "outputs": [],
   "source": [
    "def compute_metrics(pred):\n",
    "    labels = pred.label_ids\n",
    "    proba = torch.nn.functional.softmax(torch.FloatTensor(pred.predictions), dim=1)[:, 1]\n",
    "    roc_auc = roc_auc_score(labels, proba)\n",
    "    return {'roc_auc_score': roc_auc}"
   ]
  },
  {
   "cell_type": "markdown",
   "metadata": {},
   "source": [
    "### Параметры обучения\n",
    "\n",
    "- weight_decay: регуляризация\n",
    "- evaluation_strategy: период оценки метрик обучения"
   ]
  },
  {
   "cell_type": "code",
   "execution_count": 15,
   "metadata": {},
   "outputs": [],
   "source": [
    "training_args = TrainingArguments(\n",
    "    output_dir = './data/results', \n",
    "    num_train_epochs = 2,\n",
    "    per_device_train_batch_size = 8, \n",
    "    per_device_eval_batch_size = 8,\n",
    "    weight_decay =0, \n",
    "    logging_dir = './data/logs', \n",
    "    load_best_model_at_end = True, \n",
    "    learning_rate = 1e-4, \n",
    "    evaluation_strategy ='epoch', \n",
    "    logging_strategy = 'epoch', \n",
    "    save_strategy = 'epoch', \n",
    "    save_total_limit = 1,\n",
    "    seed=21)"
   ]
  },
  {
   "cell_type": "markdown",
   "metadata": {},
   "source": [
    "### Обучение"
   ]
  },
  {
   "cell_type": "code",
   "execution_count": 16,
   "metadata": {},
   "outputs": [],
   "source": [
    "trainer = Trainer(model=model,\n",
    "                  tokenizer = tokenizer,\n",
    "                  args = training_args,\n",
    "                  train_dataset = train_dataset,\n",
    "                  eval_dataset = val_dataset,\n",
    "                  compute_metrics = compute_metrics)\n",
    "\n",
    "trainer.train()"
   ]
  },
  {
   "cell_type": "markdown",
   "metadata": {},
   "source": [
    "___\n",
    "## <center> <a id=5 style='color:gold'>Оценка качества и сохранение модели</a>\n"
   ]
  },
  {
   "cell_type": "markdown",
   "metadata": {},
   "source": [
    "- Классификационный отчет\n",
    "- ROC-AUC"
   ]
  },
  {
   "cell_type": "code",
   "execution_count": 17,
   "metadata": {},
   "outputs": [
    {
     "data": {
      "application/vnd.jupyter.widget-view+json": {
       "model_id": "51e9f0c299194ee8b21900093c6dba43",
       "version_major": 2,
       "version_minor": 0
      },
      "text/plain": [
       "  0%|          | 0/733 [00:00<?, ?it/s]"
      ]
     },
     "metadata": {},
     "output_type": "display_data"
    },
    {
     "data": {
      "application/vnd.jupyter.widget-view+json": {
       "model_id": "cc46676e69cb4076af5317eb8b4add42",
       "version_major": 2,
       "version_minor": 0
      },
      "text/plain": [
       "  0%|          | 0/1250 [00:00<?, ?it/s]"
      ]
     },
     "metadata": {},
     "output_type": "display_data"
    },
    {
     "name": "stdout",
     "output_type": "stream",
     "text": [
      "              precision    recall  f1-score   support\n",
      "\n",
      "           0       0.74      0.84      0.79      5876\n",
      "           1       0.72      0.59      0.65      4124\n",
      "\n",
      "    accuracy                           0.74     10000\n",
      "   macro avg       0.73      0.71      0.72     10000\n",
      "weighted avg       0.74      0.74      0.73     10000\n",
      "\n"
     ]
    },
    {
     "data": {
      "image/png": "[encoded data removed]",
      "text/plain": [
       "<Figure size 640x480 with 1 Axes>"
      ]
     },
     "metadata": {},
     "output_type": "display_data"
    }
   ],
   "source": [
    "def model_evaluation(trainer: Trainer,\n",
    "                    train_dataset: Dataset, \n",
    "                    test_dataset: Dataset, \n",
    "                    train_labels: pd.Series, \n",
    "                    test_labels: pd.Series) -> None:\n",
    "    \n",
    "    train_out = trainer.predict(train_dataset)\n",
    "    test_out = trainer.predict(test_dataset)\n",
    "    \n",
    "    test_pred_labels = np.argmax(test_out.predictions, axis = -1)\n",
    "    \n",
    "    train_proba = torch.nn.functional.softmax(torch.FloatTensor(train_out.predictions), dim=1)[:, 1]\n",
    "    test_proba = torch.nn.functional.softmax(torch.FloatTensor(test_out.predictions), dim=1)[:, 1]\n",
    "    \n",
    "    train_auc = roc_auc_score(train_labels, train_proba)\n",
    "    test_auc = roc_auc_score(test_labels, test_proba)\n",
    "\n",
    "\n",
    "    plt.style.use('ggplot');\n",
    "    ax = plt.subplot()\n",
    "    \n",
    "    plt.plot(*roc_curve(train_labels, train_proba)[:2], label='%s AUC=%.4f' % ('Train', train_auc))\n",
    "    plt.plot(*roc_curve(test_labels, test_proba)[:2], label='%s AUC=%.4f' % ('Test', test_auc))\n",
    "    \n",
    "    ax.set_xlabel('False positive rate')\n",
    "    ax.set_ylabel('True positive rate')\n",
    "    ax.plot([0, 1], [0, 1], '--', color='black',)\n",
    "    ax.set_title('SBERT transfer learning')\n",
    "    ax.legend(fontsize='large')\n",
    "\n",
    "    print(classification_report(test_labels, test_pred_labels))\n",
    "\n",
    "model_evaluation(trainer=trainer, train_dataset=train_dataset, test_dataset=test_dataset, train_labels=y_train, test_labels=y_test)"
   ]
  },
  {
   "cell_type": "markdown",
   "metadata": {},
   "source": [
    "### Локальное сохранение обученной модели"
   ]
  },
  {
   "cell_type": "code",
   "execution_count": null,
   "metadata": {},
   "outputs": [],
   "source": [
    "# model_path = \"data/models/ft_sbert_large_some_result\"\n",
    "\n",
    "# model.save_pretrained(model_path)\n",
    "# tokenizer.save_pretrained(model_path)"
   ]
  },
  {
   "cell_type": "markdown",
   "metadata": {},
   "source": [
    "___\n",
    "## <center> <a id=6 style='color:gold'>Загрузка модели на Huggingface</a>"
   ]
  },
  {
   "cell_type": "markdown",
   "metadata": {},
   "source": [
    "[Документация ](https://huggingface.co/docs/transformers/model_sharing)"
   ]
  },
  {
   "cell_type": "markdown",
   "metadata": {},
   "source": [
    "### Локальная загрузка обученной модели"
   ]
  },
  {
   "cell_type": "code",
   "execution_count": null,
   "metadata": {},
   "outputs": [],
   "source": [
    "MODEL_PATH = 'data/models/ft_l15_80_sbert_large'\n",
    "\n",
    "model = BertForSequenceClassification.from_pretrained(MODEL_PATH, num_labels=2)\n",
    "tokenizer = BertTokenizer.from_pretrained(MODEL_PATH)"
   ]
  },
  {
   "cell_type": "markdown",
   "metadata": {},
   "source": [
    "### Вход в систему Huggingface"
   ]
  },
  {
   "cell_type": "code",
   "execution_count": null,
   "metadata": {},
   "outputs": [],
   "source": [
    "notebook_login()"
   ]
  },
  {
   "cell_type": "markdown",
   "metadata": {},
   "source": [
    "### Загрузка обученной модели на Huggingface"
   ]
  },
  {
   "cell_type": "code",
   "execution_count": null,
   "metadata": {},
   "outputs": [],
   "source": [
    "HUG_PATH = \"nazarovmichail/sbert_large_transcription_classification\"\n",
    "\n",
    "model.push_to_hub(HUG_PATH)\n",
    "tokenizer.push_to_hub(HUG_PATH)"
   ]
  },
  {
   "cell_type": "markdown",
   "metadata": {},
   "source": [
    "___\n",
    "## <center> <a id=7 style='color:gold'>Инференс модели</a>"
   ]
  },
  {
   "cell_type": "markdown",
   "metadata": {},
   "source": [
    "### Импорт тестового датасета"
   ]
  },
  {
   "cell_type": "code",
   "execution_count": 18,
   "metadata": {},
   "outputs": [
    {
     "data": {
      "text/html": [
       "<div>\n",
       "<style scoped>\n",
       "    .dataframe tbody tr th:only-of-type {\n",
       "        vertical-align: middle;\n",
       "    }\n",
       "\n",
       "    .dataframe tbody tr th {\n",
       "        vertical-align: top;\n",
       "    }\n",
       "\n",
       "    .dataframe thead th {\n",
       "        text-align: right;\n",
       "    }\n",
       "</style>\n",
       "<table border=\"1\" class=\"dataframe\">\n",
       "  <thead>\n",
       "    <tr style=\"text-align: right;\">\n",
       "      <th></th>\n",
       "      <th>annotation_fastconformer</th>\n",
       "      <th>human_markup</th>\n",
       "      <th>audio_path</th>\n",
       "      <th>label</th>\n",
       "    </tr>\n",
       "  </thead>\n",
       "  <tbody>\n",
       "    <tr>\n",
       "      <th>0</th>\n",
       "      <td>у нас здесь муж много</td>\n",
       "      <td>вот у нас здесь мух много</td>\n",
       "      <td>51b0fadce17e.wav</td>\n",
       "      <td>0</td>\n",
       "    </tr>\n",
       "    <tr>\n",
       "      <th>1</th>\n",
       "      <td>понимаешь если бы это был случай он тебя не бо...</td>\n",
       "      <td>понимаешь если бы это было случайно он бы тебя...</td>\n",
       "      <td>42e052ce1540.wav</td>\n",
       "      <td>0</td>\n",
       "    </tr>\n",
       "  </tbody>\n",
       "</table>\n",
       "</div>"
      ],
      "text/plain": [
       "                            annotation_fastconformer  \\\n",
       "0                              у нас здесь муж много   \n",
       "1  понимаешь если бы это был случай он тебя не бо...   \n",
       "\n",
       "                                        human_markup        audio_path  label  \n",
       "0                          вот у нас здесь мух много  51b0fadce17e.wav      0  \n",
       "1  понимаешь если бы это было случайно он бы тебя...  42e052ce1540.wav      0  "
      ]
     },
     "execution_count": 18,
     "metadata": {},
     "output_type": "execute_result"
    }
   ],
   "source": [
    "FILE_PATH = 'data/data_part1.xlsx'\n",
    "\n",
    "df = pd.read_excel(FILE_PATH)\n",
    "df[:2]"
   ]
  },
  {
   "cell_type": "markdown",
   "metadata": {},
   "source": [
    "### Импорт обученной модели"
   ]
  },
  {
   "cell_type": "code",
   "execution_count": 19,
   "metadata": {},
   "outputs": [],
   "source": [
    "device = \"cuda:0\" if torch.cuda.is_available() else \"cpu\"\n",
    "\n",
    "model = BertForSequenceClassification.from_pretrained('nazarovmichail/sbert_large_transcription_classification').to(device)\n",
    "tokenizer = BertTokenizer.from_pretrained('nazarovmichail/sbert_large_transcription_classification')"
   ]
  },
  {
   "cell_type": "markdown",
   "metadata": {},
   "source": [
    "### Оценка качества транскрибации по предложению"
   ]
  },
  {
   "cell_type": "code",
   "execution_count": 20,
   "metadata": {},
   "outputs": [
    {
     "name": "stdout",
     "output_type": "stream",
     "text": [
      "Аудиофрагмент транскрибирован некачественно\n"
     ]
    }
   ],
   "source": [
    "def seq_prediction(sequence: str,\n",
    "                    model=model,\n",
    "                    tokenizer=tokenizer) -> None:\n",
    "    \"\"\"Функция оценивает качество транскрибации при помощи обученной модели\n",
    "\n",
    "    Args:\n",
    "        sequence (str): Текстовый фрагмент транскрибации\n",
    "        model (_type_, optional): Обученная модель. Defaults to model.\n",
    "        tokenizer (_type_, optional): Токенайзер. Defaults to tokenizer.\n",
    "    \"\"\"\n",
    "\n",
    "    tokens = tokenizer(sequence, return_tensors=\"pt\").to(device)\n",
    "    \n",
    "    with torch.no_grad():\n",
    "        logits = model(**tokens).logits\n",
    "\n",
    "    predicted_class = logits.argmax().item()\n",
    "    if predicted_class:\n",
    "        print(f'Аудиофрагмент транскрибирован некачественно')\n",
    "    else:\n",
    "        print(f'Аудиофрагмент транскрибирован качественно')\n",
    "\n",
    "\n",
    "sequence = \"грузинского информата\"\n",
    "\n",
    "seq_prediction(sequence)"
   ]
  },
  {
   "cell_type": "markdown",
   "metadata": {},
   "source": [
    "### Оценка качества модели на датасете"
   ]
  },
  {
   "cell_type": "code",
   "execution_count": 21,
   "metadata": {},
   "outputs": [
    {
     "data": {
      "image/png": "[encoded data removed]",
      "text/plain": [
       "<Figure size 640x480 with 1 Axes>"
      ]
     },
     "metadata": {},
     "output_type": "display_data"
    }
   ],
   "source": [
    "def model_evaluation(\n",
    "                    test_inputs: list, \n",
    "                    test_labels: list,\n",
    "                    model: BertForSequenceClassification=model,\n",
    "                    tokenizer: BertTokenizer=tokenizer,\n",
    "                    device: str=device,\n",
    "                    batch_size=10,\n",
    "                    verbose: bool=True) -> np.ndarray:\n",
    "    \"\"\"Функция для оценки обученной модели. Изображает ROC-кривую и рассчитывает показатель AUC.\n",
    "\n",
    "    Args:\n",
    "        test_inputs (list): Список тестовых транскрибированных предложений\n",
    "        test_labels (list): Список тестовых лейблов \n",
    "        model (BertForSequenceClassification, optional): Обученная модель. Defaults to model.\n",
    "        tokenizer (BertTokenizer, optional): Токенайзер. Defaults to tokenizer.\n",
    "        device (str, optional): Устройство для вычислений (cuda / cpu). Defaults to device.\n",
    "        batch_size (int, optional): Размер батчей. Defaults to 10.\n",
    "        verbose (bool, optional): Отображение прогрессбара при оценке модели . Defaults to True.\n",
    "\n",
    "    Returns:\n",
    "        np.ndarray: Вероятности модели для 1 класса\n",
    "    \"\"\"\n",
    "    \n",
    "    tokens = tokenizer(test_inputs, padding=True, return_tensors='pt').to(device)\n",
    "    SAMPLES_N = len(test_inputs)\n",
    "\n",
    "    total_test_out = torch.zeros(batch_size)\n",
    "    if verbose:\n",
    "        for start_idx in trange(0, SAMPLES_N, batch_size):\n",
    "            input_batch = tokens[start_idx: start_idx + batch_size]\n",
    "            with torch.no_grad():\n",
    "                test_out = model(**input_batch).logits[:,1]\n",
    "                if start_idx == 0:\n",
    "                    total_test_out = test_out\n",
    "                else:\n",
    "                    total_test_out = torch.cat((total_test_out, test_out))\n",
    "    else:\n",
    "        for start_idx in range(0, SAMPLES_N, batch_size):\n",
    "            input_batch = tokens[start_idx: start_idx + batch_size]\n",
    "            with torch.no_grad():\n",
    "                test_out = model(**input_batch).logits[:,1]\n",
    "                if start_idx == 0:\n",
    "                    total_test_out = test_out\n",
    "                else:\n",
    "                    total_test_out = torch.cat((total_test_out, test_out))\n",
    "\n",
    "    test_proba = torch.nn.functional.softmax(total_test_out, dim=0).detach().cpu().numpy()\n",
    "    test_auc = roc_auc_score(test_labels, test_proba, )\n",
    "\n",
    "\n",
    "    plt.style.use('ggplot');\n",
    "    ax = plt.subplot()\n",
    "    \n",
    "    plt.plot(*roc_curve(test_labels, test_proba)[:2], label=f'Test auc = {test_auc:.4f}')\n",
    "    \n",
    "    ax.set_xlabel('False positive rate')\n",
    "    ax.set_ylabel('True positive rate')\n",
    "    ax.plot([0, 1], [0, 1], '--', color='black',)\n",
    "    ax.set_title('SBERT transfer learning')\n",
    "    ax.legend(fontsize='large')\n",
    "\n",
    "    return test_proba\n",
    "\n",
    "\n",
    "test_inputs = df['annotation_fastconformer'].tolist()\n",
    "test_labels = df['label'].tolist()\n",
    "\n",
    "test_proba = model_evaluation(test_inputs=test_inputs,\n",
    "                            test_labels=test_labels, \n",
    "                            verbose=False)"
   ]
  }
 ],
 "metadata": {
  "kernelspec": {
   "display_name": "Python 3",
   "language": "python",
   "name": "python3"
  },
  "language_info": {
   "codemirror_mode": {
    "name": "ipython",
    "version": 3
   },
   "file_extension": ".py",
   "mimetype": "text/x-python",
   "name": "python",
   "nbconvert_exporter": "python",
   "pygments_lexer": "ipython3",
   "version": "3.12.3"
  }
 },
 "nbformat": 4,
 "nbformat_minor": 2
}
